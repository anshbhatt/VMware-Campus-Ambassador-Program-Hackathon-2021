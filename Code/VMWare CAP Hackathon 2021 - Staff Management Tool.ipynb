{
  "nbformat": 4,
  "nbformat_minor": 0,
  "metadata": {
    "colab": {
      "name": "VMWare CAP Hackathon.ipynb",
      "provenance": [],
      "collapsed_sections": []
    },
    "kernelspec": {
      "name": "python3",
      "display_name": "Python 3"
    },
    "language_info": {
      "name": "python"
    }
  },
  "cells": [
    {
      "cell_type": "markdown",
      "metadata": {
        "id": "CAW7AJXo46nF"
      },
      "source": [
        "# VMWare CAP Hackathon 2021\n",
        "## Staff Management Tool\n",
        "This notebbok aims to create a tool for contact centre staffing to predict the number of employees to cater to the incoming service requests to maximise customer satisfaction."
      ]
    },
    {
      "cell_type": "markdown",
      "metadata": {
        "id": "82-tLv9IjAo4"
      },
      "source": [
        "#Preprocessing Data"
      ]
    },
    {
      "cell_type": "code",
      "metadata": {
        "id": "lggpRu6CiLXG"
      },
      "source": [
        "import pandas as pd\n",
        "import datetime\n",
        "\n",
        "df = pd.read_excel('/content/drive/MyDrive/vmware.xlsx', sheet_name = None)\n",
        "FebCalls = df['Feb-Calls']\n",
        "FebChats = df['Feb-Chats']\n",
        "MarCalls = df['March-Calls']\n",
        "MarChats = df['March-Chats']"
      ],
      "execution_count": 2,
      "outputs": []
    },
    {
      "cell_type": "code",
      "metadata": {
        "id": "vYwEGJZxiRDD"
      },
      "source": [
        "CallDataset = pd.DataFrame(columns = ['DateTime', 'CallVolume'])\n",
        "for j in range(1, 29):\n",
        "    for i in range(24):\n",
        "        CallDataset = CallDataset.append([{\n",
        "            'DateTime': datetime.datetime.combine(FebCalls.columns[j], FebCalls.iloc[i, 0]),\n",
        "            'CallVolume': int(FebCalls.iloc[i, j])\n",
        "        }])\n",
        "for j in range(1, 32):\n",
        "    for i in range(24):\n",
        "        CallDataset = CallDataset.append([{\n",
        "            'DateTime': datetime.datetime.combine(MarCalls.columns[j], MarCalls.iloc[i, 0]),\n",
        "            'CallVolume': int(MarCalls.iloc[i, j])\n",
        "        }])"
      ],
      "execution_count": 3,
      "outputs": []
    },
    {
      "cell_type": "code",
      "metadata": {
        "id": "lXqf3m5ziawb"
      },
      "source": [
        "ChatDataset = pd.DataFrame(columns = ['DateTime', 'ChatVolume'])\n",
        "for j in range(1, 29):\n",
        "    for i in range(24):\n",
        "        ChatDataset = ChatDataset.append([{\n",
        "            'DateTime': datetime.datetime.combine(FebChats.columns[j], FebChats.iloc[i, 0]),\n",
        "            'ChatVolume': int(FebChats.iloc[i, j])\n",
        "        }])\n",
        "for j in range(1, 32):\n",
        "    for i in range(24):\n",
        "        ChatDataset = ChatDataset.append([{\n",
        "            'DateTime': datetime.datetime.combine(MarChats.columns[j], MarChats.iloc[i, 0]),\n",
        "            'ChatVolume': int(MarChats.iloc[i, j])\n",
        "        }])"
      ],
      "execution_count": 4,
      "outputs": []
    },
    {
      "cell_type": "code",
      "metadata": {
        "id": "vOJ4Oo6didnq"
      },
      "source": [
        "ChatDataset.reset_index(drop=True, inplace=True)\n",
        "CallDataset.reset_index(drop=True, inplace=True)\n",
        "CombinedDataset = pd.concat([CallDataset, ChatDataset['ChatVolume']], axis=1)"
      ],
      "execution_count": 5,
      "outputs": []
    },
    {
      "cell_type": "code",
      "metadata": {
        "id": "liEoBtovkXWj",
        "colab": {
          "base_uri": "https://localhost:8080/",
          "height": 203
        },
        "outputId": "3b3df702-f67e-429b-92e2-fcc3e65f2e67"
      },
      "source": [
        "df = CombinedDataset\n",
        "df.head()"
      ],
      "execution_count": 6,
      "outputs": [
        {
          "output_type": "execute_result",
          "data": {
            "text/html": [
              "<div>\n",
              "<style scoped>\n",
              "    .dataframe tbody tr th:only-of-type {\n",
              "        vertical-align: middle;\n",
              "    }\n",
              "\n",
              "    .dataframe tbody tr th {\n",
              "        vertical-align: top;\n",
              "    }\n",
              "\n",
              "    .dataframe thead th {\n",
              "        text-align: right;\n",
              "    }\n",
              "</style>\n",
              "<table border=\"1\" class=\"dataframe\">\n",
              "  <thead>\n",
              "    <tr style=\"text-align: right;\">\n",
              "      <th></th>\n",
              "      <th>DateTime</th>\n",
              "      <th>CallVolume</th>\n",
              "      <th>ChatVolume</th>\n",
              "    </tr>\n",
              "  </thead>\n",
              "  <tbody>\n",
              "    <tr>\n",
              "      <th>0</th>\n",
              "      <td>2021-02-01 06:30:00</td>\n",
              "      <td>3</td>\n",
              "      <td>12</td>\n",
              "    </tr>\n",
              "    <tr>\n",
              "      <th>1</th>\n",
              "      <td>2021-02-01 07:30:00</td>\n",
              "      <td>5</td>\n",
              "      <td>4</td>\n",
              "    </tr>\n",
              "    <tr>\n",
              "      <th>2</th>\n",
              "      <td>2021-02-01 08:30:00</td>\n",
              "      <td>9</td>\n",
              "      <td>15</td>\n",
              "    </tr>\n",
              "    <tr>\n",
              "      <th>3</th>\n",
              "      <td>2021-02-01 09:30:00</td>\n",
              "      <td>17</td>\n",
              "      <td>17</td>\n",
              "    </tr>\n",
              "    <tr>\n",
              "      <th>4</th>\n",
              "      <td>2021-02-01 10:30:00</td>\n",
              "      <td>9</td>\n",
              "      <td>36</td>\n",
              "    </tr>\n",
              "  </tbody>\n",
              "</table>\n",
              "</div>"
            ],
            "text/plain": [
              "             DateTime CallVolume ChatVolume\n",
              "0 2021-02-01 06:30:00          3         12\n",
              "1 2021-02-01 07:30:00          5          4\n",
              "2 2021-02-01 08:30:00          9         15\n",
              "3 2021-02-01 09:30:00         17         17\n",
              "4 2021-02-01 10:30:00          9         36"
            ]
          },
          "metadata": {
            "tags": []
          },
          "execution_count": 6
        }
      ]
    },
    {
      "cell_type": "code",
      "metadata": {
        "colab": {
          "base_uri": "https://localhost:8080/",
          "height": 234
        },
        "id": "f1SOewOwjL-u",
        "outputId": "e26f8edb-1212-4edd-f6f4-ff28a4e9adfe"
      },
      "source": [
        "df.DateTime = pd.to_datetime(df.DateTime)\n",
        "df = df.set_index('DateTime')\n",
        "df.head()"
      ],
      "execution_count": 7,
      "outputs": [
        {
          "output_type": "execute_result",
          "data": {
            "text/html": [
              "<div>\n",
              "<style scoped>\n",
              "    .dataframe tbody tr th:only-of-type {\n",
              "        vertical-align: middle;\n",
              "    }\n",
              "\n",
              "    .dataframe tbody tr th {\n",
              "        vertical-align: top;\n",
              "    }\n",
              "\n",
              "    .dataframe thead th {\n",
              "        text-align: right;\n",
              "    }\n",
              "</style>\n",
              "<table border=\"1\" class=\"dataframe\">\n",
              "  <thead>\n",
              "    <tr style=\"text-align: right;\">\n",
              "      <th></th>\n",
              "      <th>CallVolume</th>\n",
              "      <th>ChatVolume</th>\n",
              "    </tr>\n",
              "    <tr>\n",
              "      <th>DateTime</th>\n",
              "      <th></th>\n",
              "      <th></th>\n",
              "    </tr>\n",
              "  </thead>\n",
              "  <tbody>\n",
              "    <tr>\n",
              "      <th>2021-02-01 06:30:00</th>\n",
              "      <td>3</td>\n",
              "      <td>12</td>\n",
              "    </tr>\n",
              "    <tr>\n",
              "      <th>2021-02-01 07:30:00</th>\n",
              "      <td>5</td>\n",
              "      <td>4</td>\n",
              "    </tr>\n",
              "    <tr>\n",
              "      <th>2021-02-01 08:30:00</th>\n",
              "      <td>9</td>\n",
              "      <td>15</td>\n",
              "    </tr>\n",
              "    <tr>\n",
              "      <th>2021-02-01 09:30:00</th>\n",
              "      <td>17</td>\n",
              "      <td>17</td>\n",
              "    </tr>\n",
              "    <tr>\n",
              "      <th>2021-02-01 10:30:00</th>\n",
              "      <td>9</td>\n",
              "      <td>36</td>\n",
              "    </tr>\n",
              "  </tbody>\n",
              "</table>\n",
              "</div>"
            ],
            "text/plain": [
              "                    CallVolume ChatVolume\n",
              "DateTime                                 \n",
              "2021-02-01 06:30:00          3         12\n",
              "2021-02-01 07:30:00          5          4\n",
              "2021-02-01 08:30:00          9         15\n",
              "2021-02-01 09:30:00         17         17\n",
              "2021-02-01 10:30:00          9         36"
            ]
          },
          "metadata": {
            "tags": []
          },
          "execution_count": 7
        }
      ]
    },
    {
      "cell_type": "markdown",
      "metadata": {
        "id": "ljviJybGBFtk"
      },
      "source": [
        "#Importing Libraries\n"
      ]
    },
    {
      "cell_type": "code",
      "metadata": {
        "id": "LeFFaJu7jVJE",
        "colab": {
          "base_uri": "https://localhost:8080/"
        },
        "outputId": "040b117c-f19c-4c6f-977b-67b80b051792"
      },
      "source": [
        "import itertools\n",
        "import numpy as np\n",
        "import matplotlib.pyplot as plt\n",
        "plt.style.use('fivethirtyeight')\n",
        "import pandas as pd\n",
        "import statsmodels.api as sm\n",
        "import matplotlib\n",
        "import pmdarima as pm\n",
        "from statsmodels.graphics.tsaplots import plot_acf, plot_pacf\n",
        "import pandas.util.testing as tm\n",
        "\n",
        "import warnings\n",
        "warnings.filterwarnings(\"ignore\")"
      ],
      "execution_count": 8,
      "outputs": [
        {
          "output_type": "stream",
          "text": [
            "/usr/local/lib/python3.7/dist-packages/ipykernel_launcher.py:10: FutureWarning: pandas.util.testing is deprecated. Use the functions in the public API at pandas.testing instead.\n",
            "  # Remove the CWD from sys.path while we load stuff.\n"
          ],
          "name": "stderr"
        }
      ]
    },
    {
      "cell_type": "code",
      "metadata": {
        "id": "VXO4yTwFiKMt"
      },
      "source": [
        "matplotlib.rcParams['axes.labelsize'] = 14\n",
        "matplotlib.rcParams['xtick.labelsize'] = 12\n",
        "matplotlib.rcParams['ytick.labelsize'] = 12\n",
        "matplotlib.rcParams['text.color'] = 'k'"
      ],
      "execution_count": 9,
      "outputs": []
    },
    {
      "cell_type": "markdown",
      "metadata": {
        "id": "U6-XrG6zji-h"
      },
      "source": [
        "#ADF and KPSS Test Functions"
      ]
    },
    {
      "cell_type": "code",
      "metadata": {
        "id": "Yy4AMVhDhqAZ"
      },
      "source": [
        "from statsmodels.tsa.stattools import adfuller\n",
        "def adf_test(timeseries):\n",
        "    print ('Results of Dickey-Fuller Test:')\n",
        "    dftest = adfuller(timeseries, autolag='AIC')\n",
        "    dfoutput = pd.Series(dftest[0:4], index=['Test Statistic','p-value','#Lags Used','Number of Observations Used'])\n",
        "    for key,value in dftest[4].items():\n",
        "       dfoutput['Critical Value (%s)'%key] = value\n",
        "    print (dfoutput)"
      ],
      "execution_count": 10,
      "outputs": []
    },
    {
      "cell_type": "code",
      "metadata": {
        "id": "MmMYGYNHht23"
      },
      "source": [
        "from statsmodels.tsa.stattools import kpss\n",
        "def kpss_test(timeseries):\n",
        "    print ('Results of KPSS Test:')\n",
        "    kpsstest = kpss(timeseries, regression='c')\n",
        "    kpss_output = pd.Series(kpsstest[0:3], index=['Test Statistic','p-value','Lags Used'])\n",
        "    for key,value in kpsstest[3].items():\n",
        "      kpss_output['Critical Value (%s)'%key] = value\n",
        "    print (kpss_output)"
      ],
      "execution_count": 11,
      "outputs": []
    },
    {
      "cell_type": "markdown",
      "metadata": {
        "id": "ya3cr36Jj1uV"
      },
      "source": [
        "#Plotting ACF and PACF Plots"
      ]
    },
    {
      "cell_type": "code",
      "metadata": {
        "colab": {
          "base_uri": "https://localhost:8080/",
          "height": 587
        },
        "id": "wxDYijGKkUm2",
        "outputId": "169e6cd6-0c37-4810-cca8-9f9d6d194095"
      },
      "source": [
        "plot_acf(df.CallVolume)\n",
        "matplotlib.pyplot.show()\n",
        "plot_pacf(df.CallVolume)\n",
        "matplotlib.pyplot.show()\n"
      ],
      "execution_count": 12,
      "outputs": [
        {
          "output_type": "display_data",
          "data": {
            "image/png": "[encoded data removed]",
            "text/plain": [
              "<Figure size 432x288 with 1 Axes>"
            ]
          },
          "metadata": {
            "tags": []
          }
        },
        {
          "output_type": "display_data",
          "data": {
            "image/png": "[encoded data removed]",
            "text/plain": [
              "<Figure size 432x288 with 1 Axes>"
            ]
          },
          "metadata": {
            "tags": []
          }
        }
      ]
    },
    {
      "cell_type": "code",
      "metadata": {
        "colab": {
          "base_uri": "https://localhost:8080/",
          "height": 587
        },
        "id": "fWybWyNuYnyw",
        "outputId": "c3d2f7c0-32b3-47b1-e041-40b8e206dd59"
      },
      "source": [
        "plot_acf(df.ChatVolume)\n",
        "matplotlib.pyplot.show()\n",
        "plot_pacf(df.ChatVolume)\n",
        "matplotlib.pyplot.show()\n"
      ],
      "execution_count": 13,
      "outputs": [
        {
          "output_type": "display_data",
          "data": {
            "image/png": "[encoded data removed]",
            "text/plain": [
              "<Figure size 432x288 with 1 Axes>"
            ]
          },
          "metadata": {
            "tags": []
          }
        },
        {
          "output_type": "display_data",
          "data": {
            "image/png": "[encoded data removed]",
            "text/plain": [
              "<Figure size 432x288 with 1 Axes>"
            ]
          },
          "metadata": {
            "tags": []
          }
        }
      ]
    },
    {
      "cell_type": "markdown",
      "metadata": {
        "id": "W4vSg_UhkE0a"
      },
      "source": [
        "#Checking for Stationarity"
      ]
    },
    {
      "cell_type": "code",
      "metadata": {
        "colab": {
          "base_uri": "https://localhost:8080/"
        },
        "id": "cqoH7BJb_YU6",
        "outputId": "6f089fb9-ba67-4bc4-8327-86b396788470"
      },
      "source": [
        "print(adf_test(df.CallVolume))\n",
        "print(kpss_test(df.CallVolume))"
      ],
      "execution_count": 14,
      "outputs": [
        {
          "output_type": "stream",
          "text": [
            "Results of Dickey-Fuller Test:\n",
            "Test Statistic                   -4.271113\n",
            "p-value                           0.000498\n",
            "#Lags Used                       22.000000\n",
            "Number of Observations Used    1393.000000\n",
            "Critical Value (1%)              -3.435053\n",
            "Critical Value (5%)              -2.863617\n",
            "Critical Value (10%)             -2.567876\n",
            "dtype: float64\n",
            "None\n",
            "Results of KPSS Test:\n",
            "Test Statistic            0.050477\n",
            "p-value                   0.100000\n",
            "Lags Used                24.000000\n",
            "Critical Value (10%)      0.347000\n",
            "Critical Value (5%)       0.463000\n",
            "Critical Value (2.5%)     0.574000\n",
            "Critical Value (1%)       0.739000\n",
            "dtype: float64\n",
            "None\n"
          ],
          "name": "stdout"
        }
      ]
    },
    {
      "cell_type": "code",
      "metadata": {
        "colab": {
          "base_uri": "https://localhost:8080/"
        },
        "id": "yAtS9vvvZF8q",
        "outputId": "8041ad29-03f1-4a76-9fa1-7d42cc342753"
      },
      "source": [
        "print(adf_test(df.ChatVolume))\n",
        "print(kpss_test(df.ChatVolume))"
      ],
      "execution_count": 15,
      "outputs": [
        {
          "output_type": "stream",
          "text": [
            "Results of Dickey-Fuller Test:\n",
            "Test Statistic                   -3.425784\n",
            "p-value                           0.010111\n",
            "#Lags Used                       22.000000\n",
            "Number of Observations Used    1393.000000\n",
            "Critical Value (1%)              -3.435053\n",
            "Critical Value (5%)              -2.863617\n",
            "Critical Value (10%)             -2.567876\n",
            "dtype: float64\n",
            "None\n",
            "Results of KPSS Test:\n",
            "Test Statistic            0.065138\n",
            "p-value                   0.100000\n",
            "Lags Used                24.000000\n",
            "Critical Value (10%)      0.347000\n",
            "Critical Value (5%)       0.463000\n",
            "Critical Value (2.5%)     0.574000\n",
            "Critical Value (1%)       0.739000\n",
            "dtype: float64\n",
            "None\n"
          ],
          "name": "stdout"
        }
      ]
    },
    {
      "cell_type": "code",
      "metadata": {
        "id": "_HmNBae4TEc3"
      },
      "source": [
        "CallData = df.drop('ChatVolume', axis = 1)\n",
        "ChatData = df.drop('CallVolume', axis = 1)"
      ],
      "execution_count": 36,
      "outputs": []
    },
    {
      "cell_type": "markdown",
      "metadata": {
        "id": "2TaAnXYvj_bx"
      },
      "source": [
        "#Seasonal Differencing"
      ]
    },
    {
      "cell_type": "code",
      "metadata": {
        "id": "hfYsLKg2sZ17"
      },
      "source": [
        "CallData['AdjVol'] = CallData['CallVolume'].diff(24)"
      ],
      "execution_count": 37,
      "outputs": []
    },
    {
      "cell_type": "code",
      "metadata": {
        "id": "CM8hmA3baGgU"
      },
      "source": [
        "ChatData['AdjVol'] = ChatData['ChatVolume'].diff(24)"
      ],
      "execution_count": 38,
      "outputs": []
    },
    {
      "cell_type": "code",
      "metadata": {
        "id": "m46agiwCzr6q"
      },
      "source": [
        "CallData = CallData.iloc[24:]"
      ],
      "execution_count": 40,
      "outputs": []
    },
    {
      "cell_type": "code",
      "metadata": {
        "id": "DUkH4yrAbaXP"
      },
      "source": [
        "ChatData = ChatData.iloc[24:]"
      ],
      "execution_count": 41,
      "outputs": []
    },
    {
      "cell_type": "code",
      "metadata": {
        "colab": {
          "base_uri": "https://localhost:8080/"
        },
        "id": "7dr6Y2Ar5Boi",
        "outputId": "be575ee6-d22a-4a14-9438-234017bb68ba"
      },
      "source": [
        "print(adf_test(CallData.AdjVol))"
      ],
      "execution_count": 42,
      "outputs": [
        {
          "output_type": "stream",
          "text": [
            "Results of Dickey-Fuller Test:\n",
            "Test Statistic                -8.008638e+00\n",
            "p-value                        2.232205e-12\n",
            "#Lags Used                     2.400000e+01\n",
            "Number of Observations Used    1.367000e+03\n",
            "Critical Value (1%)           -3.435143e+00\n",
            "Critical Value (5%)           -2.863657e+00\n",
            "Critical Value (10%)          -2.567897e+00\n",
            "dtype: float64\n",
            "None\n"
          ],
          "name": "stdout"
        }
      ]
    },
    {
      "cell_type": "code",
      "metadata": {
        "colab": {
          "base_uri": "https://localhost:8080/"
        },
        "id": "mMZayR_Gbig1",
        "outputId": "b40b1823-cfd4-4c86-e381-47826f454a79"
      },
      "source": [
        "print(adf_test(ChatData.AdjVol))"
      ],
      "execution_count": 43,
      "outputs": [
        {
          "output_type": "stream",
          "text": [
            "Results of Dickey-Fuller Test:\n",
            "Test Statistic                -6.813952e+00\n",
            "p-value                        2.082037e-09\n",
            "#Lags Used                     2.400000e+01\n",
            "Number of Observations Used    1.367000e+03\n",
            "Critical Value (1%)           -3.435143e+00\n",
            "Critical Value (5%)           -2.863657e+00\n",
            "Critical Value (10%)          -2.567897e+00\n",
            "dtype: float64\n",
            "None\n"
          ],
          "name": "stdout"
        }
      ]
    },
    {
      "cell_type": "code",
      "metadata": {
        "colab": {
          "base_uri": "https://localhost:8080/",
          "height": 1000
        },
        "id": "Rd07ZZ-n5Zf7",
        "outputId": "ad06bfb0-bedd-4182-cc62-6fa0821ab8c6"
      },
      "source": [
        "plot_acf(CallData.AdjVol)\n",
        "matplotlib.pyplot.show()\n",
        "plot_pacf(CallData.AdjVol)\n",
        "matplotlib.pyplot.show()\n",
        "\n",
        "plot_acf(ChatData.AdjVol)\n",
        "matplotlib.pyplot.show()\n",
        "plot_pacf(ChatData.AdjVol)\n",
        "matplotlib.pyplot.show()"
      ],
      "execution_count": 44,
      "outputs": [
        {
          "output_type": "display_data",
          "data": {
            "image/png": "[encoded data removed]",
            "text/plain": [
              "<Figure size 432x288 with 1 Axes>"
            ]
          },
          "metadata": {
            "tags": []
          }
        },
        {
          "output_type": "display_data",
          "data": {
            "image/png": "[encoded data removed]",
            "text/plain": [
              "<Figure size 432x288 with 1 Axes>"
            ]
          },
          "metadata": {
            "tags": []
          }
        },
        {
          "output_type": "display_data",
          "data": {
            "image/png": "[encoded data removed]",
            "text/plain": [
              "<Figure size 432x288 with 1 Axes>"
            ]
          },
          "metadata": {
            "tags": []
          }
        },
        {
          "output_type": "display_data",
          "data": {
            "image/png": "[encoded data removed]",
            "text/plain": [
              "<Figure size 432x288 with 1 Axes>"
            ]
          },
          "metadata": {
            "tags": []
          }
        }
      ]
    },
    {
      "cell_type": "markdown",
      "metadata": {
        "id": "oIEqcoNdkj3e"
      },
      "source": [
        "#Estimating Trend Differencing Order(d) and Seasonal Differencing Order(D)"
      ]
    },
    {
      "cell_type": "code",
      "metadata": {
        "colab": {
          "base_uri": "https://localhost:8080/"
        },
        "id": "p7nQPfpuCzcZ",
        "outputId": "c59eb286-a642-480c-d5b0-e5301f91a741"
      },
      "source": [
        "pm.arima.ndiffs(CallData.AdjVol, alpha=0.05, test='kpss', max_d=2)"
      ],
      "execution_count": 45,
      "outputs": [
        {
          "output_type": "execute_result",
          "data": {
            "text/plain": [
              "0"
            ]
          },
          "metadata": {
            "tags": []
          },
          "execution_count": 45
        }
      ]
    },
    {
      "cell_type": "code",
      "metadata": {
        "colab": {
          "base_uri": "https://localhost:8080/"
        },
        "id": "_LnE3z5ecbj4",
        "outputId": "09b8cf5e-07a6-4cb8-a568-a7c3cd081e55"
      },
      "source": [
        "pm.arima.ndiffs(ChatData.AdjVol, alpha=0.05, test='kpss', max_d=2)"
      ],
      "execution_count": 46,
      "outputs": [
        {
          "output_type": "execute_result",
          "data": {
            "text/plain": [
              "0"
            ]
          },
          "metadata": {
            "tags": []
          },
          "execution_count": 46
        }
      ]
    },
    {
      "cell_type": "code",
      "metadata": {
        "colab": {
          "base_uri": "https://localhost:8080/"
        },
        "id": "G3DZpQUTDJEg",
        "outputId": "1d2a0ccc-c5e3-4709-b644-b547511d3a99"
      },
      "source": [
        "pm.arima.nsdiffs(CallData.AdjVol, 24, max_D=2, test='ocsb')"
      ],
      "execution_count": 47,
      "outputs": [
        {
          "output_type": "execute_result",
          "data": {
            "text/plain": [
              "0"
            ]
          },
          "metadata": {
            "tags": []
          },
          "execution_count": 47
        }
      ]
    },
    {
      "cell_type": "code",
      "metadata": {
        "colab": {
          "base_uri": "https://localhost:8080/"
        },
        "id": "ZN1GI1pHclJc",
        "outputId": "724f7cbb-925f-490b-d1d4-9b30e9724b08"
      },
      "source": [
        "pm.arima.nsdiffs(ChatData.AdjVol, 24, max_D=2, test='ocsb')"
      ],
      "execution_count": 48,
      "outputs": [
        {
          "output_type": "execute_result",
          "data": {
            "text/plain": [
              "0"
            ]
          },
          "metadata": {
            "tags": []
          },
          "execution_count": 48
        }
      ]
    },
    {
      "cell_type": "markdown",
      "metadata": {
        "id": "Np3y7CrOk8KI"
      },
      "source": [
        "#GridSearch for ARIMA Parameters"
      ]
    },
    {
      "cell_type": "code",
      "metadata": {
        "colab": {
          "base_uri": "https://localhost:8080/"
        },
        "id": "64ZnYd5G5pPD",
        "outputId": "21e77407-d606-40bc-fae6-6b746993a134"
      },
      "source": [
        "p = range(0, 3)\n",
        "d = [0]\n",
        "q = range(0, 3)\n",
        "pdq = list(itertools.product(p, d, q))\n",
        "seasonal_pdq = [(x[0], x[1], x[2], 24) for x in list(itertools.product(p, d, q))]\n",
        "print('Examples of parameter combinations for Seasonal ARIMA:')\n",
        "print('SARIMAX: {} x {}'.format(pdq[1], seasonal_pdq[1]))\n",
        "print('SARIMAX: {} x {}'.format(pdq[1], seasonal_pdq[2]))\n",
        "print('SARIMAX: {} x {}'.format(pdq[2], seasonal_pdq[3]))"
      ],
      "execution_count": 111,
      "outputs": [
        {
          "output_type": "stream",
          "text": [
            "Examples of parameter combinations for Seasonal ARIMA:\n",
            "SARIMAX: (0, 0, 1) x (0, 0, 1, 24)\n",
            "SARIMAX: (0, 0, 1) x (0, 0, 2, 24)\n",
            "SARIMAX: (0, 0, 2) x (1, 0, 0, 24)\n"
          ],
          "name": "stdout"
        }
      ]
    },
    {
      "cell_type": "code",
      "metadata": {
        "colab": {
          "base_uri": "https://localhost:8080/"
        },
        "id": "tV-Ir4WsCG6B",
        "outputId": "b428a5da-1023-4532-a870-ef0b1c5113a7"
      },
      "source": [
        "# for param in pdq:\n",
        "#     for param_seasonal in seasonal_pdq:\n",
        "#         try:\n",
        "#             mod = sm.tsa.statespace.SARIMAX(CallData.AdjVol,\n",
        "#                                             order=param,\n",
        "#                                             seasonal_order=param_seasonal,\n",
        "#                                             )\n",
        "#             results = mod.fit(method = 'powell')\n",
        "#             print('ARIMA{}x{}24 - AIC:{}'.format(param, param_seasonal, results.aic))\n",
        "#         except:\n",
        "#             continue"
      ],
      "execution_count": null,
      "outputs": [
        {
          "output_type": "stream",
          "text": [
            "Optimization terminated successfully.\n",
            "         Current function value: 3.075300\n",
            "         Iterations: 1\n",
            "         Function evaluations: 27\n",
            "ARIMA(0, 0, 0)x(0, 0, 0, 24)24 - AIC:8563.633940352154\n",
            "Optimization terminated successfully.\n",
            "         Current function value: 2.840458\n",
            "         Iterations: 3\n",
            "         Function evaluations: 83\n",
            "ARIMA(0, 0, 0)x(0, 0, 1, 24)24 - AIC:7911.834824886839\n",
            "Optimization terminated successfully.\n",
            "         Current function value: 2.826231\n",
            "         Iterations: 3\n",
            "         Function evaluations: 113\n",
            "ARIMA(0, 0, 0)x(0, 0, 2, 24)24 - AIC:7874.227564629664\n",
            "Optimization terminated successfully.\n",
            "         Current function value: 3.023531\n",
            "         Iterations: 1\n",
            "         Function evaluations: 24\n",
            "ARIMA(0, 0, 0)x(1, 0, 0, 24)24 - AIC:8421.51155681568\n",
            "Optimization terminated successfully.\n",
            "         Current function value: 2.832235\n",
            "         Iterations: 3\n",
            "         Function evaluations: 110\n",
            "ARIMA(0, 0, 0)x(1, 0, 1, 24)24 - AIC:7890.941728383299\n",
            "Optimization terminated successfully.\n",
            "         Current function value: 2.819314\n",
            "         Iterations: 5\n",
            "         Function evaluations: 253\n",
            "ARIMA(0, 0, 0)x(1, 0, 2, 24)24 - AIC:7856.970671512383\n",
            "Optimization terminated successfully.\n",
            "         Current function value: 2.955194\n",
            "         Iterations: 1\n",
            "         Function evaluations: 36\n",
            "ARIMA(0, 0, 0)x(2, 0, 0, 24)24 - AIC:8233.260088877145\n",
            "Optimization terminated successfully.\n",
            "         Current function value: 2.811498\n",
            "         Iterations: 3\n",
            "         Function evaluations: 150\n",
            "ARIMA(0, 0, 0)x(2, 0, 1, 24)24 - AIC:7835.2094985393705\n",
            "Optimization terminated successfully.\n",
            "         Current function value: 2.813939\n",
            "         Iterations: 3\n",
            "         Function evaluations: 248\n",
            "ARIMA(0, 0, 0)x(2, 0, 2, 24)24 - AIC:7844.007058752341\n",
            "Optimization terminated successfully.\n",
            "         Current function value: 2.951975\n",
            "         Iterations: 2\n",
            "         Function evaluations: 49\n",
            "ARIMA(0, 0, 1)x(0, 0, 0, 24)24 - AIC:8222.299494661016\n",
            "Optimization terminated successfully.\n",
            "         Current function value: 2.687012\n",
            "         Iterations: 3\n",
            "         Function evaluations: 118\n",
            "ARIMA(0, 0, 1)x(0, 0, 1, 24)24 - AIC:7486.641168721911\n",
            "Optimization terminated successfully.\n",
            "         Current function value: 2.683058\n",
            "         Iterations: 3\n",
            "         Function evaluations: 145\n",
            "ARIMA(0, 0, 1)x(0, 0, 2, 24)24 - AIC:7477.6340463018105\n",
            "Optimization terminated successfully.\n",
            "         Current function value: 2.869255\n",
            "         Iterations: 2\n",
            "         Function evaluations: 72\n",
            "ARIMA(0, 0, 1)x(1, 0, 0, 24)24 - AIC:7994.0061924111305\n",
            "Optimization terminated successfully.\n",
            "         Current function value: 2.683904\n",
            "         Iterations: 4\n",
            "         Function evaluations: 204\n",
            "ARIMA(0, 0, 1)x(1, 0, 1, 24)24 - AIC:7479.988210456263\n",
            "Optimization terminated successfully.\n",
            "         Current function value: 2.680595\n",
            "         Iterations: 3\n",
            "         Function evaluations: 184\n",
            "ARIMA(0, 0, 1)x(1, 0, 2, 24)24 - AIC:7472.777422749485\n",
            "Optimization terminated successfully.\n",
            "         Current function value: 2.807897\n",
            "         Iterations: 3\n",
            "         Function evaluations: 144\n",
            "ARIMA(0, 0, 1)x(2, 0, 0, 24)24 - AIC:7825.1853129511055\n",
            "Optimization terminated successfully.\n",
            "         Current function value: 2.677100\n",
            "         Iterations: 4\n",
            "         Function evaluations: 240\n",
            "ARIMA(0, 0, 1)x(2, 0, 1, 24)24 - AIC:7463.04617888539\n",
            "Optimization terminated successfully.\n",
            "         Current function value: 2.678466\n",
            "         Iterations: 4\n",
            "         Function evaluations: 294\n",
            "ARIMA(0, 0, 1)x(2, 0, 2, 24)24 - AIC:7468.849429406229\n",
            "Optimization terminated successfully.\n",
            "         Current function value: 2.909196\n",
            "         Iterations: 2\n",
            "         Function evaluations: 68\n",
            "ARIMA(0, 0, 2)x(0, 0, 0, 24)24 - AIC:8105.20038549924\n",
            "Optimization terminated successfully.\n",
            "         Current function value: 2.629638\n",
            "         Iterations: 3\n",
            "         Function evaluations: 150\n",
            "ARIMA(0, 0, 2)x(0, 0, 1, 24)24 - AIC:7328.913257839649\n",
            "Optimization terminated successfully.\n",
            "         Current function value: 2.628135\n",
            "         Iterations: 3\n",
            "         Function evaluations: 182\n",
            "ARIMA(0, 0, 2)x(0, 0, 2, 24)24 - AIC:7326.726888365928\n",
            "Optimization terminated successfully.\n",
            "         Current function value: 2.809834\n",
            "         Iterations: 2\n",
            "         Function evaluations: 94\n",
            "ARIMA(0, 0, 2)x(1, 0, 0, 24)24 - AIC:7830.57889175722\n",
            "Optimization terminated successfully.\n",
            "         Current function value: 2.628330\n",
            "         Iterations: 4\n",
            "         Function evaluations: 238\n",
            "ARIMA(0, 0, 2)x(1, 0, 1, 24)24 - AIC:7327.269628036207\n",
            "Optimization terminated successfully.\n",
            "         Current function value: 2.626763\n",
            "         Iterations: 3\n",
            "         Function evaluations: 220\n",
            "ARIMA(0, 0, 2)x(1, 0, 2, 24)24 - AIC:7324.907330827587\n",
            "Optimization terminated successfully.\n",
            "         Current function value: 2.748952\n",
            "         Iterations: 3\n",
            "         Function evaluations: 180\n",
            "ARIMA(0, 0, 2)x(2, 0, 0, 24)24 - AIC:7663.083522012404\n",
            "Optimization terminated successfully.\n",
            "         Current function value: 2.624758\n",
            "         Iterations: 5\n",
            "         Function evaluations: 355\n",
            "ARIMA(0, 0, 2)x(2, 0, 1, 24)24 - AIC:7319.327460472112\n",
            "Optimization terminated successfully.\n",
            "         Current function value: 2.625663\n",
            "         Iterations: 3\n",
            "         Function evaluations: 251\n",
            "ARIMA(0, 0, 2)x(2, 0, 2, 24)24 - AIC:7323.846619316125\n",
            "Optimization terminated successfully.\n",
            "         Current function value: 2.880795\n",
            "         Iterations: 1\n",
            "         Function evaluations: 27\n",
            "ARIMA(1, 0, 0)x(0, 0, 0, 24)24 - AIC:8024.133031889045\n",
            "Optimization terminated successfully.\n",
            "         Current function value: 2.580023\n",
            "         Iterations: 3\n",
            "         Function evaluations: 126\n",
            "ARIMA(1, 0, 0)x(0, 0, 1, 24)24 - AIC:7188.78357289904\n",
            "Optimization terminated successfully.\n",
            "         Current function value: 2.580023\n",
            "         Iterations: 3\n",
            "         Function evaluations: 138\n",
            "ARIMA(1, 0, 0)x(0, 0, 2, 24)24 - AIC:7190.7835998303735\n",
            "Optimization terminated successfully.\n",
            "         Current function value: 2.754746\n",
            "         Iterations: 3\n",
            "         Function evaluations: 119\n",
            "ARIMA(1, 0, 0)x(1, 0, 0, 24)24 - AIC:7675.211504824885\n",
            "Optimization terminated successfully.\n",
            "         Current function value: 2.580025\n",
            "         Iterations: 4\n",
            "         Function evaluations: 199\n",
            "ARIMA(1, 0, 0)x(1, 0, 1, 24)24 - AIC:7190.789687081684\n",
            "Optimization terminated successfully.\n",
            "         Current function value: 2.579923\n",
            "         Iterations: 3\n",
            "         Function evaluations: 175\n",
            "ARIMA(1, 0, 0)x(1, 0, 2, 24)24 - AIC:7192.506975753717\n",
            "Optimization terminated successfully.\n",
            "         Current function value: 2.692168\n",
            "         Iterations: 3\n",
            "         Function evaluations: 155\n",
            "ARIMA(1, 0, 0)x(2, 0, 0, 24)24 - AIC:7502.996502964997\n",
            "Optimization terminated successfully.\n",
            "         Current function value: 2.580489\n",
            "         Iterations: 4\n",
            "         Function evaluations: 245\n",
            "ARIMA(1, 0, 0)x(2, 0, 1, 24)24 - AIC:7194.081362746504\n",
            "Optimization terminated successfully.\n",
            "         Current function value: 2.579492\n",
            "         Iterations: 4\n",
            "         Function evaluations: 287\n",
            "ARIMA(1, 0, 0)x(2, 0, 2, 24)24 - AIC:7193.306293905476\n",
            "Optimization terminated successfully.\n",
            "         Current function value: 2.831474\n",
            "         Iterations: 3\n",
            "         Function evaluations: 114\n",
            "ARIMA(1, 0, 1)x(0, 0, 0, 24)24 - AIC:7888.823879155767\n",
            "Optimization terminated successfully.\n",
            "         Current function value: 2.519792\n",
            "         Iterations: 3\n",
            "         Function evaluations: 152\n",
            "ARIMA(1, 0, 1)x(0, 0, 1, 24)24 - AIC:7023.101628180545\n",
            "Optimization terminated successfully.\n",
            "         Current function value: 2.519510\n",
            "         Iterations: 3\n",
            "         Function evaluations: 176\n",
            "ARIMA(1, 0, 1)x(0, 0, 2, 24)24 - AIC:7024.315630986203\n",
            "Optimization terminated successfully.\n",
            "         Current function value: 2.694201\n",
            "         Iterations: 3\n",
            "         Function evaluations: 150\n",
            "ARIMA(1, 0, 1)x(1, 0, 0, 24)24 - AIC:7508.656195644166\n",
            "Optimization terminated successfully.\n",
            "         Current function value: 2.519555\n",
            "         Iterations: 4\n",
            "         Function evaluations: 238\n",
            "ARIMA(1, 0, 1)x(1, 0, 1, 24)24 - AIC:7024.439940797578\n",
            "Optimization terminated successfully.\n",
            "         Current function value: 2.519719\n",
            "         Iterations: 3\n",
            "         Function evaluations: 220\n",
            "ARIMA(1, 0, 1)x(1, 0, 2, 24)24 - AIC:7026.89680516919\n",
            "Optimization terminated successfully.\n",
            "         Current function value: 2.628648\n",
            "         Iterations: 3\n",
            "         Function evaluations: 185\n",
            "ARIMA(1, 0, 1)x(2, 0, 0, 24)24 - AIC:7328.15711734771\n",
            "Optimization terminated successfully.\n",
            "         Current function value: 2.519508\n",
            "         Iterations: 4\n",
            "         Function evaluations: 286\n",
            "ARIMA(1, 0, 1)x(2, 0, 1, 24)24 - AIC:7026.309868220133\n",
            "Optimization terminated successfully.\n",
            "         Current function value: 2.519085\n",
            "         Iterations: 4\n",
            "         Function evaluations: 328\n",
            "ARIMA(1, 0, 1)x(2, 0, 2, 24)24 - AIC:7027.132417880537\n",
            "Optimization terminated successfully.\n",
            "         Current function value: 2.829527\n",
            "         Iterations: 3\n",
            "         Function evaluations: 146\n",
            "ARIMA(1, 0, 2)x(0, 0, 0, 24)24 - AIC:7885.401931795892\n",
            "Optimization terminated successfully.\n",
            "         Current function value: 2.518209\n",
            "         Iterations: 3\n",
            "         Function evaluations: 186\n",
            "ARIMA(1, 0, 2)x(0, 0, 1, 24)24 - AIC:7020.694611577834\n",
            "Optimization terminated successfully.\n",
            "         Current function value: 2.517996\n",
            "         Iterations: 4\n",
            "         Function evaluations: 283\n",
            "ARIMA(1, 0, 2)x(0, 0, 2, 24)24 - AIC:7022.1001183970675\n",
            "Optimization terminated successfully.\n",
            "         Current function value: 2.693200\n",
            "         Iterations: 3\n",
            "         Function evaluations: 182\n",
            "ARIMA(1, 0, 2)x(1, 0, 0, 24)24 - AIC:7507.868420748353\n",
            "Optimization terminated successfully.\n",
            "         Current function value: 2.518009\n",
            "         Iterations: 4\n",
            "         Function evaluations: 282\n",
            "ARIMA(1, 0, 2)x(1, 0, 1, 24)24 - AIC:7022.137614874293\n",
            "Optimization terminated successfully.\n",
            "         Current function value: 2.518192\n",
            "         Iterations: 4\n",
            "         Function evaluations: 335\n",
            "ARIMA(1, 0, 2)x(1, 0, 2, 24)24 - AIC:7024.645683881507\n",
            "Optimization terminated successfully.\n",
            "         Current function value: 2.627114\n",
            "         Iterations: 4\n",
            "         Function evaluations: 293\n",
            "ARIMA(1, 0, 2)x(2, 0, 0, 24)24 - AIC:7325.884042310584\n",
            "Optimization terminated successfully.\n",
            "         Current function value: 2.517885\n",
            "         Iterations: 5\n",
            "         Function evaluations: 421\n",
            "ARIMA(1, 0, 2)x(2, 0, 1, 24)24 - AIC:7023.791463991325\n",
            "Optimization terminated successfully.\n",
            "         Current function value: 2.517529\n",
            "         Iterations: 4\n",
            "         Function evaluations: 370\n",
            "ARIMA(1, 0, 2)x(2, 0, 2, 24)24 - AIC:7024.801021546731\n",
            "Optimization terminated successfully.\n",
            "         Current function value: 2.856436\n",
            "         Iterations: 1\n",
            "         Function evaluations: 37\n",
            "ARIMA(2, 0, 0)x(0, 0, 0, 24)24 - AIC:7958.317577166912\n",
            "Optimization terminated successfully.\n",
            "         Current function value: 2.544790\n",
            "         Iterations: 3\n",
            "         Function evaluations: 160\n",
            "ARIMA(2, 0, 0)x(0, 0, 1, 24)24 - AIC:7092.694198766589\n",
            "Optimization terminated successfully.\n",
            "         Current function value: 2.544514\n",
            "         Iterations: 3\n",
            "         Function evaluations: 176\n",
            "ARIMA(2, 0, 0)x(0, 0, 2, 24)24 - AIC:7093.926450670744\n",
            "Optimization terminated successfully.\n",
            "         Current function value: 2.719154\n",
            "         Iterations: 3\n",
            "         Function evaluations: 148\n",
            "ARIMA(2, 0, 0)x(1, 0, 0, 24)24 - AIC:7578.1248267413575\n",
            "Optimization terminated successfully.\n",
            "         Current function value: 2.544530\n",
            "         Iterations: 4\n",
            "         Function evaluations: 247\n",
            "ARIMA(2, 0, 0)x(1, 0, 1, 24)24 - AIC:7093.971295261316\n",
            "Optimization terminated successfully.\n",
            "         Current function value: 2.544752\n",
            "         Iterations: 3\n",
            "         Function evaluations: 215\n",
            "ARIMA(2, 0, 0)x(1, 0, 2, 24)24 - AIC:7096.588775359946\n",
            "Optimization terminated successfully.\n",
            "         Current function value: 2.655117\n",
            "         Iterations: 3\n",
            "         Function evaluations: 192\n",
            "ARIMA(2, 0, 0)x(2, 0, 0, 24)24 - AIC:7401.845550901553\n",
            "Optimization terminated successfully.\n",
            "         Current function value: 2.544855\n",
            "         Iterations: 4\n",
            "         Function evaluations: 293\n",
            "ARIMA(2, 0, 0)x(2, 0, 1, 24)24 - AIC:7096.877615754962\n",
            "Optimization terminated successfully.\n",
            "         Current function value: 2.544200\n",
            "         Iterations: 4\n",
            "         Function evaluations: 334\n",
            "ARIMA(2, 0, 0)x(2, 0, 2, 24)24 - AIC:7097.052890369338\n",
            "Optimization terminated successfully.\n",
            "         Current function value: 2.829878\n",
            "         Iterations: 3\n",
            "         Function evaluations: 148\n",
            "ARIMA(2, 0, 1)x(0, 0, 0, 24)24 - AIC:7886.381623660964\n",
            "Optimization terminated successfully.\n",
            "         Current function value: 2.518475\n",
            "         Iterations: 4\n",
            "         Function evaluations: 246\n",
            "ARIMA(2, 0, 1)x(0, 0, 1, 24)24 - AIC:7021.433687446768\n",
            "Optimization terminated successfully.\n",
            "         Current function value: 2.518188\n",
            "         Iterations: 4\n",
            "         Function evaluations: 291\n",
            "ARIMA(2, 0, 1)x(0, 0, 2, 24)24 - AIC:7022.6344575062885\n",
            "Optimization terminated successfully.\n",
            "         Current function value: 2.693393\n",
            "         Iterations: 4\n",
            "         Function evaluations: 241\n",
            "ARIMA(2, 0, 1)x(1, 0, 0, 24)24 - AIC:7508.404883339812\n",
            "Optimization terminated successfully.\n",
            "         Current function value: 2.518194\n",
            "         Iterations: 5\n",
            "         Function evaluations: 366\n",
            "ARIMA(2, 0, 1)x(1, 0, 1, 24)24 - AIC:7022.6518745400235\n",
            "Optimization terminated successfully.\n",
            "         Current function value: 2.518405\n",
            "         Iterations: 4\n",
            "         Function evaluations: 346\n",
            "ARIMA(2, 0, 1)x(1, 0, 2, 24)24 - AIC:7025.240579911233\n",
            "Optimization terminated successfully.\n",
            "         Current function value: 2.627304\n",
            "         Iterations: 4\n",
            "         Function evaluations: 300\n",
            "ARIMA(2, 0, 1)x(2, 0, 0, 24)24 - AIC:7326.415518991142\n",
            "Optimization terminated successfully.\n",
            "         Current function value: 2.517976\n",
            "         Iterations: 5\n",
            "         Function evaluations: 429\n",
            "ARIMA(2, 0, 1)x(2, 0, 1, 24)24 - AIC:7024.046129597244\n",
            "Optimization terminated successfully.\n",
            "         Current function value: 2.517641\n",
            "         Iterations: 5\n",
            "         Function evaluations: 488\n",
            "ARIMA(2, 0, 1)x(2, 0, 2, 24)24 - AIC:7025.1118505159975\n",
            "Optimization terminated successfully.\n",
            "         Current function value: 2.830198\n",
            "         Iterations: 3\n",
            "         Function evaluations: 179\n",
            "ARIMA(2, 0, 2)x(0, 0, 0, 24)24 - AIC:7889.269956686449\n",
            "Optimization terminated successfully.\n",
            "         Current function value: 2.518543\n",
            "         Iterations: 3\n",
            "         Function evaluations: 218\n",
            "ARIMA(2, 0, 2)x(0, 0, 1, 24)24 - AIC:7023.623374362109\n",
            "Optimization terminated successfully.\n",
            "         Current function value: 2.518309\n",
            "         Iterations: 4\n",
            "         Function evaluations: 325\n",
            "ARIMA(2, 0, 2)x(0, 0, 2, 24)24 - AIC:7024.97204531875\n",
            "Optimization terminated successfully.\n",
            "         Current function value: 2.693730\n",
            "         Iterations: 4\n",
            "         Function evaluations: 288\n",
            "ARIMA(2, 0, 2)x(1, 0, 0, 24)24 - AIC:7511.3445612282085\n",
            "Optimization terminated successfully.\n",
            "         Current function value: 2.518339\n",
            "         Iterations: 4\n",
            "         Function evaluations: 326\n",
            "ARIMA(2, 0, 2)x(1, 0, 1, 24)24 - AIC:7025.056361200696\n",
            "Optimization terminated successfully.\n",
            "         Current function value: 2.518517\n",
            "         Iterations: 4\n",
            "         Function evaluations: 379\n",
            "ARIMA(2, 0, 2)x(1, 0, 2, 24)24 - AIC:7027.552189671464\n",
            "Optimization terminated successfully.\n",
            "         Current function value: 2.627577\n",
            "         Iterations: 4\n",
            "         Function evaluations: 336\n",
            "ARIMA(2, 0, 2)x(2, 0, 0, 24)24 - AIC:7329.1736632452485\n",
            "Optimization terminated successfully.\n",
            "         Current function value: 2.518414\n",
            "         Iterations: 4\n",
            "         Function evaluations: 377\n",
            "ARIMA(2, 0, 2)x(2, 0, 1, 24)24 - AIC:7027.2647743036705\n",
            "Optimization terminated successfully.\n",
            "         Current function value: 2.517813\n",
            "         Iterations: 4\n",
            "         Function evaluations: 414\n",
            "ARIMA(2, 0, 2)x(2, 0, 2, 24)24 - AIC:7027.592732734231\n"
          ],
          "name": "stdout"
        }
      ]
    },
    {
      "cell_type": "code",
      "metadata": {
        "id": "aQka-cmvebFJ",
        "colab": {
          "base_uri": "https://localhost:8080/"
        },
        "outputId": "fc8c720c-8b79-49c3-9a04-61dfa1170cc8"
      },
      "source": [
        "for param in pdq:\n",
        "    for param_seasonal in seasonal_pdq:\n",
        "        try:\n",
        "            mod = sm.tsa.statespace.SARIMAX(ChatData.AdjVol.astype(float),\n",
        "                                            order=param,\n",
        "                                            seasonal_order=param_seasonal,\n",
        "                                            )\n",
        "            results = mod.fit(method = 'powell')\n",
        "            print('ARIMA{}x{}24 - AIC:{}'.format(param, param_seasonal, results.aic))\n",
        "        except:\n",
        "            continue"
      ],
      "execution_count": 113,
      "outputs": [
        {
          "output_type": "stream",
          "text": [
            "Optimization terminated successfully.\n",
            "         Current function value: 3.919381\n",
            "         Iterations: 1\n",
            "         Function evaluations: 23\n",
            "ARIMA(0, 0, 0)x(0, 0, 0, 24)24 - AIC:10913.556584133219\n",
            "Optimization terminated successfully.\n",
            "         Current function value: 3.759778\n",
            "         Iterations: 2\n",
            "         Function evaluations: 58\n",
            "ARIMA(0, 0, 0)x(0, 0, 1, 24)24 - AIC:10471.220892527\n",
            "Optimization terminated successfully.\n",
            "         Current function value: 3.708975\n",
            "         Iterations: 3\n",
            "         Function evaluations: 115\n",
            "ARIMA(0, 0, 0)x(0, 0, 2, 24)24 - AIC:10331.785736834336\n",
            "Optimization terminated successfully.\n",
            "         Current function value: 3.894867\n",
            "         Iterations: 1\n",
            "         Function evaluations: 24\n",
            "ARIMA(0, 0, 0)x(1, 0, 0, 24)24 - AIC:10847.309928958593\n",
            "Optimization terminated successfully.\n",
            "         Current function value: 3.722464\n",
            "         Iterations: 3\n",
            "         Function evaluations: 114\n",
            "ARIMA(0, 0, 0)x(1, 0, 1, 24)24 - AIC:10369.34086964404\n",
            "Optimization terminated successfully.\n",
            "         Current function value: 3.708692\n",
            "         Iterations: 3\n",
            "         Function evaluations: 142\n",
            "ARIMA(0, 0, 0)x(1, 0, 2, 24)24 - AIC:10332.999249831402\n",
            "Optimization terminated successfully.\n",
            "         Current function value: 3.857970\n",
            "         Iterations: 1\n",
            "         Function evaluations: 36\n",
            "ARIMA(0, 0, 0)x(2, 0, 0, 24)24 - AIC:10746.587351141836\n",
            "Optimization terminated successfully.\n",
            "         Current function value: 3.696196\n",
            "         Iterations: 3\n",
            "         Function evaluations: 152\n",
            "ARIMA(0, 0, 0)x(2, 0, 1, 24)24 - AIC:10298.209568790624\n",
            "Optimization terminated successfully.\n",
            "         Current function value: 3.675399\n",
            "         Iterations: 5\n",
            "         Function evaluations: 386\n",
            "ARIMA(0, 0, 0)x(2, 0, 2, 24)24 - AIC:10242.311093756962\n",
            "Optimization terminated successfully.\n",
            "         Current function value: 3.772953\n",
            "         Iterations: 2\n",
            "         Function evaluations: 46\n",
            "ARIMA(0, 0, 1)x(0, 0, 0, 24)24 - AIC:10507.902421772484\n",
            "Optimization terminated successfully.\n",
            "         Current function value: 3.549165\n",
            "         Iterations: 3\n",
            "         Function evaluations: 119\n",
            "ARIMA(0, 0, 1)x(0, 0, 1, 24)24 - AIC:9886.876543529164\n",
            "Optimization terminated successfully.\n",
            "         Current function value: 3.533749\n",
            "         Iterations: 3\n",
            "         Function evaluations: 149\n",
            "ARIMA(0, 0, 1)x(0, 0, 2, 24)24 - AIC:9845.957945664168\n",
            "Optimization terminated successfully.\n",
            "         Current function value: 3.713674\n",
            "         Iterations: 3\n",
            "         Function evaluations: 112\n",
            "ARIMA(0, 0, 1)x(1, 0, 0, 24)24 - AIC:10344.867776079402\n",
            "Optimization terminated successfully.\n",
            "         Current function value: 3.536434\n",
            "         Iterations: 4\n",
            "         Function evaluations: 210\n",
            "ARIMA(0, 0, 1)x(1, 0, 1, 24)24 - AIC:9853.431137511163\n",
            "Optimization terminated successfully.\n",
            "         Current function value: 3.533284\n",
            "         Iterations: 3\n",
            "         Function evaluations: 179\n",
            "ARIMA(0, 0, 1)x(1, 0, 2, 24)24 - AIC:9846.66348529018\n",
            "Optimization terminated successfully.\n",
            "         Current function value: 3.680262\n",
            "         Iterations: 3\n",
            "         Function evaluations: 150\n",
            "ARIMA(0, 0, 1)x(2, 0, 0, 24)24 - AIC:10253.848185566629\n",
            "Optimization terminated successfully.\n",
            "         Current function value: 3.528448\n",
            "         Iterations: 4\n",
            "         Function evaluations: 247\n",
            "ARIMA(0, 0, 1)x(2, 0, 1, 24)24 - AIC:9833.200515522267\n",
            "Optimization terminated successfully.\n",
            "         Current function value: 3.530669\n",
            "         Iterations: 3\n",
            "         Function evaluations: 216\n",
            "ARIMA(0, 0, 1)x(2, 0, 2, 24)24 - AIC:9841.3837095755\n",
            "Optimization terminated successfully.\n",
            "         Current function value: 3.731488\n",
            "         Iterations: 2\n",
            "         Function evaluations: 69\n",
            "ARIMA(0, 0, 2)x(0, 0, 0, 24)24 - AIC:10394.462375520063\n",
            "Optimization terminated successfully.\n",
            "         Current function value: 3.476819\n",
            "         Iterations: 3\n",
            "         Function evaluations: 152\n",
            "ARIMA(0, 0, 2)x(0, 0, 1, 24)24 - AIC:9687.464458399405\n",
            "Optimization terminated successfully.\n",
            "         Current function value: 3.471080\n",
            "         Iterations: 3\n",
            "         Function evaluations: 182\n",
            "ARIMA(0, 0, 2)x(0, 0, 2, 24)24 - AIC:9673.487592831047\n",
            "Optimization terminated successfully.\n",
            "         Current function value: 3.653018\n",
            "         Iterations: 3\n",
            "         Function evaluations: 143\n",
            "ARIMA(0, 0, 2)x(1, 0, 0, 24)24 - AIC:10178.002676807997\n",
            "Optimization terminated successfully.\n",
            "         Current function value: 3.471940\n",
            "         Iterations: 4\n",
            "         Function evaluations: 254\n",
            "ARIMA(0, 0, 2)x(1, 0, 1, 24)24 - AIC:9675.879657200618\n",
            "Optimization terminated successfully.\n",
            "         Current function value: 3.470564\n",
            "         Iterations: 3\n",
            "         Function evaluations: 216\n",
            "ARIMA(0, 0, 2)x(1, 0, 2, 24)24 - AIC:9674.049216552194\n",
            "Optimization terminated successfully.\n",
            "         Current function value: 3.614838\n",
            "         Iterations: 3\n",
            "         Function evaluations: 178\n",
            "ARIMA(0, 0, 2)x(2, 0, 0, 24)24 - AIC:10073.708189153687\n",
            "Optimization terminated successfully.\n",
            "         Current function value: 3.467721\n",
            "         Iterations: 4\n",
            "         Function evaluations: 291\n",
            "ARIMA(0, 0, 2)x(2, 0, 1, 24)24 - AIC:9666.134323951595\n",
            "Optimization terminated successfully.\n",
            "         Current function value: 3.469240\n",
            "         Iterations: 3\n",
            "         Function evaluations: 252\n",
            "ARIMA(0, 0, 2)x(2, 0, 2, 24)24 - AIC:9672.365263877547\n",
            "Optimization terminated successfully.\n",
            "         Current function value: 3.683558\n",
            "         Iterations: 1\n",
            "         Function evaluations: 26\n",
            "ARIMA(1, 0, 0)x(0, 0, 0, 24)24 - AIC:10259.02462890722\n",
            "Optimization terminated successfully.\n",
            "         Current function value: 3.386103\n",
            "         Iterations: 3\n",
            "         Function evaluations: 124\n",
            "ARIMA(1, 0, 0)x(0, 0, 1, 24)24 - AIC:9432.911106277308\n",
            "Optimization terminated successfully.\n",
            "         Current function value: 3.386002\n",
            "         Iterations: 3\n",
            "         Function evaluations: 153\n",
            "ARIMA(1, 0, 0)x(0, 0, 2, 24)24 - AIC:9434.629853122133\n",
            "Optimization terminated successfully.\n",
            "         Current function value: 3.568746\n",
            "         Iterations: 3\n",
            "         Function evaluations: 119\n",
            "ARIMA(1, 0, 0)x(1, 0, 0, 24)24 - AIC:9941.389189265952\n",
            "Optimization terminated successfully.\n",
            "         Current function value: 3.386006\n",
            "         Iterations: 4\n",
            "         Function evaluations: 209\n",
            "ARIMA(1, 0, 0)x(1, 0, 1, 24)24 - AIC:9434.641735248531\n",
            "Optimization terminated successfully.\n",
            "         Current function value: 3.385924\n",
            "         Iterations: 3\n",
            "         Function evaluations: 180\n",
            "ARIMA(1, 0, 0)x(1, 0, 2, 24)24 - AIC:9436.41125358985\n",
            "Optimization terminated successfully.\n",
            "         Current function value: 3.520538\n",
            "         Iterations: 3\n",
            "         Function evaluations: 154\n",
            "ARIMA(1, 0, 0)x(2, 0, 0, 24)24 - AIC:9809.179062143055\n",
            "Optimization terminated successfully.\n",
            "         Current function value: 3.385194\n",
            "         Iterations: 4\n",
            "         Function evaluations: 248\n",
            "ARIMA(1, 0, 0)x(2, 0, 1, 24)24 - AIC:9434.380621725422\n",
            "Optimization terminated successfully.\n",
            "         Current function value: 3.385581\n",
            "         Iterations: 4\n",
            "         Function evaluations: 293\n",
            "ARIMA(1, 0, 0)x(2, 0, 2, 24)24 - AIC:9437.45887018956\n",
            "Optimization terminated successfully.\n",
            "         Current function value: 3.616486\n",
            "         Iterations: 3\n",
            "         Function evaluations: 113\n",
            "ARIMA(1, 0, 1)x(0, 0, 0, 24)24 - AIC:10074.295952483779\n",
            "Optimization terminated successfully.\n",
            "         Current function value: 3.318272\n",
            "         Iterations: 3\n",
            "         Function evaluations: 157\n",
            "ARIMA(1, 0, 1)x(0, 0, 1, 24)24 - AIC:9246.069948778171\n",
            "Optimization terminated successfully.\n",
            "         Current function value: 3.317946\n",
            "         Iterations: 3\n",
            "         Function evaluations: 181\n",
            "ARIMA(1, 0, 1)x(0, 0, 2, 24)24 - AIC:9247.16251959201\n",
            "Optimization terminated successfully.\n",
            "         Current function value: 3.498228\n",
            "         Iterations: 3\n",
            "         Function evaluations: 151\n",
            "ARIMA(1, 0, 1)x(1, 0, 0, 24)24 - AIC:9747.06566728641\n",
            "Optimization terminated successfully.\n",
            "         Current function value: 3.317975\n",
            "         Iterations: 4\n",
            "         Function evaluations: 242\n",
            "ARIMA(1, 0, 1)x(1, 0, 1, 24)24 - AIC:9247.242779236574\n",
            "Optimization terminated successfully.\n",
            "         Current function value: 3.317826\n",
            "         Iterations: 3\n",
            "         Function evaluations: 212\n",
            "ARIMA(1, 0, 1)x(1, 0, 2, 24)24 - AIC:9248.827855772386\n",
            "Optimization terminated successfully.\n",
            "         Current function value: 3.449375\n",
            "         Iterations: 3\n",
            "         Function evaluations: 186\n",
            "ARIMA(1, 0, 1)x(2, 0, 0, 24)24 - AIC:9613.05910455565\n",
            "Optimization terminated successfully.\n",
            "         Current function value: 3.317257\n",
            "         Iterations: 4\n",
            "         Function evaluations: 279\n",
            "ARIMA(1, 0, 1)x(2, 0, 1, 24)24 - AIC:9247.24369969852\n",
            "Optimization terminated successfully.\n",
            "         Current function value: 3.317563\n",
            "         Iterations: 4\n",
            "         Function evaluations: 325\n",
            "ARIMA(1, 0, 1)x(2, 0, 2, 24)24 - AIC:9250.095555372187\n",
            "Optimization terminated successfully.\n",
            "         Current function value: 3.615483\n",
            "         Iterations: 3\n",
            "         Function evaluations: 145\n",
            "ARIMA(1, 0, 2)x(0, 0, 0, 24)24 - AIC:10073.50355573758\n",
            "Optimization terminated successfully.\n",
            "         Current function value: 3.314564\n",
            "         Iterations: 3\n",
            "         Function evaluations: 180\n",
            "ARIMA(1, 0, 2)x(0, 0, 1, 24)24 - AIC:9237.746247263487\n",
            "Optimization terminated successfully.\n",
            "         Current function value: 3.314403\n",
            "         Iterations: 3\n",
            "         Function evaluations: 208\n",
            "ARIMA(1, 0, 2)x(0, 0, 2, 24)24 - AIC:9239.29838821919\n",
            "Optimization terminated successfully.\n",
            "         Current function value: 3.495801\n",
            "         Iterations: 3\n",
            "         Function evaluations: 176\n",
            "ARIMA(1, 0, 2)x(1, 0, 0, 24)24 - AIC:9742.309164862105\n",
            "Optimization terminated successfully.\n",
            "         Current function value: 3.314383\n",
            "         Iterations: 4\n",
            "         Function evaluations: 280\n",
            "ARIMA(1, 0, 2)x(1, 0, 1, 24)24 - AIC:9239.241126211513\n",
            "Optimization terminated successfully.\n",
            "         Current function value: 3.314308\n",
            "         Iterations: 3\n",
            "         Function evaluations: 247\n",
            "ARIMA(1, 0, 2)x(1, 0, 2, 24)24 - AIC:9241.033123210753\n",
            "Optimization terminated successfully.\n",
            "         Current function value: 3.446324\n",
            "         Iterations: 3\n",
            "         Function evaluations: 205\n",
            "ARIMA(1, 0, 2)x(2, 0, 0, 24)24 - AIC:9606.565693296667\n",
            "Optimization terminated successfully.\n",
            "         Current function value: 3.313632\n",
            "         Iterations: 4\n",
            "         Function evaluations: 321\n",
            "ARIMA(1, 0, 2)x(2, 0, 1, 24)24 - AIC:9239.150802433973\n",
            "Optimization terminated successfully.\n",
            "         Current function value: 3.313961\n",
            "         Iterations: 4\n",
            "         Function evaluations: 363\n",
            "ARIMA(1, 0, 2)x(2, 0, 2, 24)24 - AIC:9242.067104441441\n",
            "Optimization terminated successfully.\n",
            "         Current function value: 3.652645\n",
            "         Iterations: 1\n",
            "         Function evaluations: 37\n",
            "ARIMA(2, 0, 0)x(0, 0, 0, 24)24 - AIC:10174.963182003201\n",
            "Optimization terminated successfully.\n",
            "         Current function value: 3.350847\n",
            "         Iterations: 3\n",
            "         Function evaluations: 162\n",
            "ARIMA(2, 0, 0)x(0, 0, 1, 24)24 - AIC:9336.757955333\n",
            "Optimization terminated successfully.\n",
            "         Current function value: 3.350749\n",
            "         Iterations: 3\n",
            "         Function evaluations: 180\n",
            "ARIMA(2, 0, 0)x(0, 0, 2, 24)24 - AIC:9338.484953781042\n",
            "Optimization terminated successfully.\n",
            "         Current function value: 3.533375\n",
            "         Iterations: 3\n",
            "         Function evaluations: 150\n",
            "ARIMA(2, 0, 0)x(1, 0, 0, 24)24 - AIC:9844.917178247993\n",
            "Optimization terminated successfully.\n",
            "         Current function value: 3.350751\n",
            "         Iterations: 4\n",
            "         Function evaluations: 253\n",
            "ARIMA(2, 0, 0)x(1, 0, 1, 24)24 - AIC:9338.491634699903\n",
            "Optimization terminated successfully.\n",
            "         Current function value: 3.350669\n",
            "         Iterations: 3\n",
            "         Function evaluations: 217\n",
            "ARIMA(2, 0, 0)x(1, 0, 2, 24)24 - AIC:9340.26125807445\n",
            "Optimization terminated successfully.\n",
            "         Current function value: 3.483089\n",
            "         Iterations: 3\n",
            "         Function evaluations: 189\n",
            "ARIMA(2, 0, 0)x(2, 0, 0, 24)24 - AIC:9706.920083604931\n",
            "Optimization terminated successfully.\n",
            "         Current function value: 3.349998\n",
            "         Iterations: 4\n",
            "         Function evaluations: 289\n",
            "ARIMA(2, 0, 0)x(2, 0, 1, 24)24 - AIC:9338.395464916211\n",
            "Optimization terminated successfully.\n",
            "         Current function value: 3.350321\n",
            "         Iterations: 4\n",
            "         Function evaluations: 331\n",
            "ARIMA(2, 0, 0)x(2, 0, 2, 24)24 - AIC:9341.292344365906\n",
            "Optimization terminated successfully.\n",
            "         Current function value: 3.615788\n",
            "         Iterations: 7\n",
            "         Function evaluations: 345\n",
            "ARIMA(2, 0, 1)x(0, 0, 0, 24)24 - AIC:10074.354849901203\n",
            "Optimization terminated successfully.\n",
            "         Current function value: 3.315708\n",
            "         Iterations: 6\n",
            "         Function evaluations: 376\n",
            "ARIMA(2, 0, 1)x(0, 0, 1, 24)24 - AIC:9240.931653582313\n",
            "Optimization terminated successfully.\n",
            "         Current function value: 3.315520\n",
            "         Iterations: 6\n",
            "         Function evaluations: 495\n",
            "ARIMA(2, 0, 1)x(0, 0, 2, 24)24 - AIC:9242.40721499469\n",
            "Optimization terminated successfully.\n",
            "         Current function value: 3.496717\n",
            "         Iterations: 6\n",
            "         Function evaluations: 375\n",
            "ARIMA(2, 0, 1)x(1, 0, 0, 24)24 - AIC:9744.85938821769\n",
            "Optimization terminated successfully.\n",
            "         Current function value: 3.315126\n",
            "         Iterations: 6\n",
            "         Function evaluations: 433\n",
            "ARIMA(2, 0, 1)x(1, 0, 1, 24)24 - AIC:9241.310031427925\n",
            "Optimization terminated successfully.\n",
            "         Current function value: 3.315403\n",
            "         Iterations: 6\n",
            "         Function evaluations: 574\n",
            "ARIMA(2, 0, 1)x(1, 0, 2, 24)24 - AIC:9244.080953663215\n",
            "Optimization terminated successfully.\n",
            "         Current function value: 3.447050\n",
            "         Iterations: 8\n",
            "         Function evaluations: 592\n",
            "ARIMA(2, 0, 1)x(2, 0, 0, 24)24 - AIC:9608.587197887411\n",
            "Optimization terminated successfully.\n",
            "         Current function value: 3.314382\n",
            "         Iterations: 7\n",
            "         Function evaluations: 568\n",
            "ARIMA(2, 0, 1)x(2, 0, 1, 24)24 - AIC:9241.240510602911\n",
            "Optimization terminated successfully.\n",
            "         Current function value: 3.314685\n",
            "         Iterations: 6\n",
            "         Function evaluations: 568\n",
            "ARIMA(2, 0, 1)x(2, 0, 2, 24)24 - AIC:9244.084266877391\n",
            "Optimization terminated successfully.\n",
            "         Current function value: 3.614417\n",
            "         Iterations: 3\n",
            "         Function evaluations: 180\n",
            "ARIMA(2, 0, 2)x(0, 0, 0, 24)24 - AIC:10072.536425041606\n",
            "Optimization terminated successfully.\n",
            "         Current function value: 3.314010\n",
            "         Iterations: 3\n",
            "         Function evaluations: 220\n",
            "ARIMA(2, 0, 2)x(0, 0, 1, 24)24 - AIC:9238.204189501237\n",
            "Optimization terminated successfully.\n",
            "         Current function value: 3.313834\n",
            "         Iterations: 3\n",
            "         Function evaluations: 253\n",
            "ARIMA(2, 0, 2)x(0, 0, 2, 24)24 - AIC:9239.713921204366\n",
            "Optimization terminated successfully.\n",
            "         Current function value: 3.494817\n",
            "         Iterations: 3\n",
            "         Function evaluations: 211\n",
            "ARIMA(2, 0, 2)x(1, 0, 0, 24)24 - AIC:9741.569753177648\n",
            "Optimization terminated successfully.\n",
            "         Current function value: 3.313804\n",
            "         Iterations: 4\n",
            "         Function evaluations: 331\n",
            "ARIMA(2, 0, 2)x(1, 0, 1, 24)24 - AIC:9239.629025523802\n",
            "Optimization terminated successfully.\n",
            "         Current function value: 3.313748\n",
            "         Iterations: 3\n",
            "         Function evaluations: 292\n",
            "ARIMA(2, 0, 2)x(1, 0, 2, 24)24 - AIC:9241.473545843266\n",
            "Optimization terminated successfully.\n",
            "         Current function value: 3.445607\n",
            "         Iterations: 3\n",
            "         Function evaluations: 249\n",
            "ARIMA(2, 0, 2)x(2, 0, 0, 24)24 - AIC:9606.569958700593\n",
            "Optimization terminated successfully.\n",
            "         Current function value: 3.313085\n",
            "         Iterations: 4\n",
            "         Function evaluations: 372\n",
            "ARIMA(2, 0, 2)x(2, 0, 1, 24)24 - AIC:9239.62837042529\n",
            "Optimization terminated successfully.\n",
            "         Current function value: 3.313504\n",
            "         Iterations: 3\n",
            "         Function evaluations: 314\n",
            "ARIMA(2, 0, 2)x(2, 0, 2, 24)24 - AIC:9242.796173078399\n"
          ],
          "name": "stdout"
        }
      ]
    },
    {
      "cell_type": "markdown",
      "metadata": {
        "id": "HkUp2HmBKjwz"
      },
      "source": [
        "#Model Selection\n",
        "The Best Model will be the one with the least AIC Value.<br>\n",
        "ARIMA(1, 0, 2)x(0, 0, 1, 24) is the best fit model as observed from the GridSearch performed above."
      ]
    },
    {
      "cell_type": "code",
      "metadata": {
        "colab": {
          "base_uri": "https://localhost:8080/"
        },
        "id": "JkRZhuA2DhLr",
        "outputId": "7170e02b-5ce3-4dc6-d662-d995464a7aed"
      },
      "source": [
        "mod = sm.tsa.statespace.SARIMAX(CallData.AdjVol.astype(float),\n",
        "                                order=(1, 0, 2),\n",
        "                                seasonal_order=(0, 0, 1, 24))\n",
        "results = mod.fit(method = 'powell')"
      ],
      "execution_count": 61,
      "outputs": [
        {
          "output_type": "stream",
          "text": [
            "Optimization terminated successfully.\n",
            "         Current function value: 2.518209\n",
            "         Iterations: 3\n",
            "         Function evaluations: 186\n"
          ],
          "name": "stdout"
        }
      ]
    },
    {
      "cell_type": "code",
      "metadata": {
        "colab": {
          "base_uri": "https://localhost:8080/"
        },
        "id": "_yMk1IpjdBev",
        "outputId": "fa5f7707-e779-4542-d256-62e6a02cbb25"
      },
      "source": [
        "mod1 = sm.tsa.statespace.SARIMAX(ChatData.AdjVol.astype(float),\n",
        "                                order=(1, 0, 2),\n",
        "                                seasonal_order=(0, 0, 1, 24))\n",
        "results1 = mod1.fit(method = 'powell')"
      ],
      "execution_count": 62,
      "outputs": [
        {
          "output_type": "stream",
          "text": [
            "Optimization terminated successfully.\n",
            "         Current function value: 3.314564\n",
            "         Iterations: 3\n",
            "         Function evaluations: 180\n"
          ],
          "name": "stdout"
        }
      ]
    },
    {
      "cell_type": "code",
      "metadata": {
        "colab": {
          "base_uri": "https://localhost:8080/"
        },
        "id": "9TYHGz1IDuBE",
        "outputId": "2aac5180-94ee-4977-e93e-e0ee753dee9d"
      },
      "source": [
        "print(results.summary())"
      ],
      "execution_count": 63,
      "outputs": [
        {
          "output_type": "stream",
          "text": [
            "                                      SARIMAX Results                                       \n",
            "============================================================================================\n",
            "Dep. Variable:                               AdjVol   No. Observations:                 1392\n",
            "Model:             SARIMAX(1, 0, 2)x(0, 0, [1], 24)   Log Likelihood               -3505.347\n",
            "Date:                              Sat, 05 Jun 2021   AIC                           7020.695\n",
            "Time:                                      19:44:16   BIC                           7046.887\n",
            "Sample:                                           0   HQIC                          7030.489\n",
            "                                             - 1392                                         \n",
            "Covariance Type:                                opg                                         \n",
            "==============================================================================\n",
            "                 coef    std err          z      P>|z|      [0.025      0.975]\n",
            "------------------------------------------------------------------------------\n",
            "ar.L1          0.9363      0.015     63.782      0.000       0.908       0.965\n",
            "ma.L1         -0.5446      0.029    -19.048      0.000      -0.601      -0.489\n",
            "ma.L2         -0.0587      0.027     -2.187      0.029      -0.111      -0.006\n",
            "ma.S.L24      -0.9795      0.022    -45.489      0.000      -1.022      -0.937\n",
            "sigma2         8.5352      0.321     26.554      0.000       7.905       9.165\n",
            "===================================================================================\n",
            "Ljung-Box (L1) (Q):                   0.00   Jarque-Bera (JB):                97.30\n",
            "Prob(Q):                              0.99   Prob(JB):                         0.00\n",
            "Heteroskedasticity (H):               1.11   Skew:                             0.54\n",
            "Prob(H) (two-sided):                  0.27   Kurtosis:                         3.70\n",
            "===================================================================================\n",
            "\n",
            "Warnings:\n",
            "[1] Covariance matrix calculated using the outer product of gradients (complex-step).\n"
          ],
          "name": "stdout"
        }
      ]
    },
    {
      "cell_type": "code",
      "metadata": {
        "colab": {
          "base_uri": "https://localhost:8080/"
        },
        "id": "qyG3qKJHdOvT",
        "outputId": "9bf6788c-338a-4d32-8de0-66e5425de202"
      },
      "source": [
        "print(results1.summary())"
      ],
      "execution_count": 64,
      "outputs": [
        {
          "output_type": "stream",
          "text": [
            "                                      SARIMAX Results                                       \n",
            "============================================================================================\n",
            "Dep. Variable:                               AdjVol   No. Observations:                 1392\n",
            "Model:             SARIMAX(1, 0, 2)x(0, 0, [1], 24)   Log Likelihood               -4613.873\n",
            "Date:                              Sat, 05 Jun 2021   AIC                           9237.746\n",
            "Time:                                      19:44:22   BIC                           9263.939\n",
            "Sample:                                           0   HQIC                          9247.540\n",
            "                                             - 1392                                         \n",
            "Covariance Type:                                opg                                         \n",
            "==============================================================================\n",
            "                 coef    std err          z      P>|z|      [0.025      0.975]\n",
            "------------------------------------------------------------------------------\n",
            "ar.L1          0.9558      0.010     96.385      0.000       0.936       0.975\n",
            "ma.L1         -0.5135      0.019    -26.964      0.000      -0.551      -0.476\n",
            "ma.L2         -0.0947      0.023     -4.060      0.000      -0.140      -0.049\n",
            "ma.S.L24      -0.9914      0.059    -16.913      0.000      -1.106      -0.877\n",
            "sigma2        41.5626      2.140     19.422      0.000      37.368      45.757\n",
            "===================================================================================\n",
            "Ljung-Box (L1) (Q):                   0.03   Jarque-Bera (JB):            116420.72\n",
            "Prob(Q):                              0.87   Prob(JB):                         0.00\n",
            "Heteroskedasticity (H):               0.90   Skew:                             3.56\n",
            "Prob(H) (two-sided):                  0.24   Kurtosis:                        47.23\n",
            "===================================================================================\n",
            "\n",
            "Warnings:\n",
            "[1] Covariance matrix calculated using the outer product of gradients (complex-step).\n"
          ],
          "name": "stdout"
        }
      ]
    },
    {
      "cell_type": "markdown",
      "metadata": {
        "id": "xnlAcJuplVb-"
      },
      "source": [
        "#Residual Analysis"
      ]
    },
    {
      "cell_type": "code",
      "metadata": {
        "colab": {
          "base_uri": "https://localhost:8080/",
          "height": 522
        },
        "id": "RJ23aD_5Ln4p",
        "outputId": "e076a801-d9ab-48e0-9469-c959bfbd0744"
      },
      "source": [
        "results.plot_diagnostics(figsize=(18, 8))\n",
        "plt.show()"
      ],
      "execution_count": 65,
      "outputs": [
        {
          "output_type": "display_data",
          "data": {
            "image/png": "[encoded data removed]",
            "text/plain": [
              "<Figure size 1296x576 with 4 Axes>"
            ]
          },
          "metadata": {
            "tags": []
          }
        }
      ]
    },
    {
      "cell_type": "code",
      "metadata": {
        "colab": {
          "base_uri": "https://localhost:8080/",
          "height": 524
        },
        "id": "aWLkLi7YeoRa",
        "outputId": "c95be19f-8a4c-4e1e-f963-416e14f3604f"
      },
      "source": [
        "results1.plot_diagnostics(figsize=(18, 8))\n",
        "plt.show()"
      ],
      "execution_count": 66,
      "outputs": [
        {
          "output_type": "display_data",
          "data": {
            "image/png": "[encoded data removed]",
            "text/plain": [
              "<Figure size 1296x576 with 4 Axes>"
            ]
          },
          "metadata": {
            "tags": []
          }
        }
      ]
    },
    {
      "cell_type": "code",
      "metadata": {
        "colab": {
          "base_uri": "https://localhost:8080/",
          "height": 414
        },
        "id": "nOTBEQzeL2tt",
        "outputId": "99532195-56cd-49c9-a431-0da584cdc0eb"
      },
      "source": [
        "pred = results.get_prediction(start=pd.to_datetime('2021-03-25 06:30:00'), dynamic=False)\n",
        "pred_ci = pred.conf_int()\n",
        "ax = CallData['AdjVol'].plot(label='observed')\n",
        "pred.predicted_mean.plot(ax=ax, label='Forecast', alpha=.7, figsize=(18, 7))\n",
        "ax.fill_between(pred_ci.index,\n",
        "                pred_ci.iloc[:, 0],\n",
        "                pred_ci.iloc[:, 1], color='k', alpha=.2)\n",
        "ax.set_xlabel('Date')\n",
        "ax.set_ylabel('Calls')\n",
        "plt.legend()\n",
        "plt.show()"
      ],
      "execution_count": 67,
      "outputs": [
        {
          "output_type": "display_data",
          "data": {
            "image/png": "[encoded data removed]",
            "text/plain": [
              "<Figure size 1296x504 with 1 Axes>"
            ]
          },
          "metadata": {
            "tags": []
          }
        }
      ]
    },
    {
      "cell_type": "code",
      "metadata": {
        "colab": {
          "base_uri": "https://localhost:8080/",
          "height": 412
        },
        "id": "xXrpX7rte7e8",
        "outputId": "00caf7a7-08c5-4bdc-f2bc-af1e943e043f"
      },
      "source": [
        "pred1 = results1.get_prediction(start=pd.to_datetime('2021-03-25 06:30:00'), dynamic=False)\n",
        "pred_ci1 = pred1.conf_int()\n",
        "ax1 = ChatData['AdjVol'].plot(label='observed')\n",
        "pred1.predicted_mean.plot(ax=ax1, label='Forecast', alpha=.7, figsize=(18, 7))\n",
        "ax1.fill_between(pred_ci1.index,\n",
        "                pred_ci1.iloc[:, 0],\n",
        "                pred_ci1.iloc[:, 1], color='k', alpha=.2)\n",
        "ax1.set_xlabel('Date')\n",
        "ax1.set_ylabel('Chats')\n",
        "plt.legend()\n",
        "plt.show()"
      ],
      "execution_count": 68,
      "outputs": [
        {
          "output_type": "display_data",
          "data": {
            "image/png": "[encoded data removed]",
            "text/plain": [
              "<Figure size 1296x504 with 1 Axes>"
            ]
          },
          "metadata": {
            "tags": []
          }
        }
      ]
    },
    {
      "cell_type": "code",
      "metadata": {
        "colab": {
          "base_uri": "https://localhost:8080/"
        },
        "id": "PvhEIIUPMTmG",
        "outputId": "b622dec0-b3c4-4417-dcec-b2d94fc12f04"
      },
      "source": [
        "calls_forecasted = pred.predicted_mean\n",
        "calls_true = CallData.AdjVol['2021-03-25 06:30:00':]\n",
        "mse = ((calls_forecasted - calls_true) ** 2).mean()\n",
        "print('The Mean Squared Error is {}'.format(round(mse, 2)))\n",
        "print('The Root Mean Squared Error is {}'.format(round(np.sqrt(mse), 2)))"
      ],
      "execution_count": 69,
      "outputs": [
        {
          "output_type": "stream",
          "text": [
            "The Mean Squared Error is 8.87\n",
            "The Root Mean Squared Error is 2.98\n"
          ],
          "name": "stdout"
        }
      ]
    },
    {
      "cell_type": "code",
      "metadata": {
        "colab": {
          "base_uri": "https://localhost:8080/"
        },
        "id": "mrfNXQSUfnUF",
        "outputId": "f558ca2f-2974-4e07-dddd-25551c68df99"
      },
      "source": [
        "chats_forecasted = pred1.predicted_mean\n",
        "chats_true = ChatData.AdjVol['2021-03-25 06:30:00':]\n",
        "mse = ((chats_forecasted - chats_true) ** 2).mean()\n",
        "print('The Mean Squared Error is {}'.format(round(mse, 2)))\n",
        "print('The Root Mean Squared Error is {}'.format(round(np.sqrt(mse), 2)))"
      ],
      "execution_count": 70,
      "outputs": [
        {
          "output_type": "stream",
          "text": [
            "The Mean Squared Error is 21.55\n",
            "The Root Mean Squared Error is 4.64\n"
          ],
          "name": "stdout"
        }
      ]
    },
    {
      "cell_type": "code",
      "metadata": {
        "id": "wjJe6ziUN3XU"
      },
      "source": [
        "calls_forecasted = calls_forecasted.to_frame()\n",
        "calls_forecasted = calls_forecasted.reset_index()\n",
        "\n",
        "chats_forecasted = chats_forecasted.to_frame()\n",
        "chats_forecasted = chats_forecasted.reset_index()"
      ],
      "execution_count": 71,
      "outputs": []
    },
    {
      "cell_type": "code",
      "metadata": {
        "id": "3dyfYTDlQJN4"
      },
      "source": [
        "CallOutput = CallData.CallVolume.iloc[-192:-168]\n",
        "CallOutput = CallOutput.reset_index()\n",
        "\n",
        "ChatOutput = ChatData.ChatVolume.iloc[-192:-168]\n",
        "ChatOutput = ChatOutput.reset_index()"
      ],
      "execution_count": 72,
      "outputs": []
    },
    {
      "cell_type": "code",
      "metadata": {
        "id": "aiUJJCy9Qrv7"
      },
      "source": [
        "num_rows = calls_forecasted['predicted_mean'].size\n",
        "for i in range(num_rows):\n",
        "  CallOutput = CallOutput.append([{\n",
        "      'DateTime' :  calls_forecasted.iloc[i,0],\n",
        "      'CallVolume' : max(0, CallOutput.iloc[i,1] + calls_forecasted.iloc[i,1])\n",
        "  }])\n",
        "\n",
        "for i in range(num_rows):\n",
        "  ChatOutput = ChatOutput.append([{\n",
        "      'DateTime' :  chats_forecasted.iloc[i,0],\n",
        "      'ChatVolume' : max(0, ChatOutput.iloc[i,1] + chats_forecasted.iloc[i,1])\n",
        "  }])\n"
      ],
      "execution_count": 73,
      "outputs": []
    },
    {
      "cell_type": "code",
      "metadata": {
        "id": "gqFbnOVZV-p6"
      },
      "source": [
        "CallOutput = CallOutput.iloc[24:]\n",
        "ChatOutput = ChatOutput.iloc[24:]"
      ],
      "execution_count": 74,
      "outputs": []
    },
    {
      "cell_type": "code",
      "metadata": {
        "colab": {
          "base_uri": "https://localhost:8080/",
          "height": 417
        },
        "id": "IJ5yz3W7hXeD",
        "outputId": "85b37bce-d70f-4a20-9dec-693f9b03afb0"
      },
      "source": [
        "predVolume = pd.concat([CallOutput, ChatOutput['ChatVolume']], axis = 1)\n",
        "predVolume"
      ],
      "execution_count": 76,
      "outputs": [
        {
          "output_type": "execute_result",
          "data": {
            "text/html": [
              "<div>\n",
              "<style scoped>\n",
              "    .dataframe tbody tr th:only-of-type {\n",
              "        vertical-align: middle;\n",
              "    }\n",
              "\n",
              "    .dataframe tbody tr th {\n",
              "        vertical-align: top;\n",
              "    }\n",
              "\n",
              "    .dataframe thead th {\n",
              "        text-align: right;\n",
              "    }\n",
              "</style>\n",
              "<table border=\"1\" class=\"dataframe\">\n",
              "  <thead>\n",
              "    <tr style=\"text-align: right;\">\n",
              "      <th></th>\n",
              "      <th>DateTime</th>\n",
              "      <th>CallVolume</th>\n",
              "      <th>ChatVolume</th>\n",
              "    </tr>\n",
              "  </thead>\n",
              "  <tbody>\n",
              "    <tr>\n",
              "      <th>0</th>\n",
              "      <td>2021-03-25 06:30:00</td>\n",
              "      <td>2.25507</td>\n",
              "      <td>10.2068</td>\n",
              "    </tr>\n",
              "    <tr>\n",
              "      <th>0</th>\n",
              "      <td>2021-03-25 07:30:00</td>\n",
              "      <td>1.35901</td>\n",
              "      <td>6.72875</td>\n",
              "    </tr>\n",
              "    <tr>\n",
              "      <th>0</th>\n",
              "      <td>2021-03-25 08:30:00</td>\n",
              "      <td>2.2894</td>\n",
              "      <td>8.94092</td>\n",
              "    </tr>\n",
              "    <tr>\n",
              "      <th>0</th>\n",
              "      <td>2021-03-25 09:30:00</td>\n",
              "      <td>3.19959</td>\n",
              "      <td>13.0588</td>\n",
              "    </tr>\n",
              "    <tr>\n",
              "      <th>0</th>\n",
              "      <td>2021-03-25 10:30:00</td>\n",
              "      <td>2.37141</td>\n",
              "      <td>15.8938</td>\n",
              "    </tr>\n",
              "    <tr>\n",
              "      <th>...</th>\n",
              "      <td>...</td>\n",
              "      <td>...</td>\n",
              "      <td>...</td>\n",
              "    </tr>\n",
              "    <tr>\n",
              "      <th>0</th>\n",
              "      <td>2021-03-31 01:30:00</td>\n",
              "      <td>14.3389</td>\n",
              "      <td>38.3617</td>\n",
              "    </tr>\n",
              "    <tr>\n",
              "      <th>0</th>\n",
              "      <td>2021-03-31 02:30:00</td>\n",
              "      <td>0.892976</td>\n",
              "      <td>19.143</td>\n",
              "    </tr>\n",
              "    <tr>\n",
              "      <th>0</th>\n",
              "      <td>2021-03-31 03:30:00</td>\n",
              "      <td>10.9384</td>\n",
              "      <td>9.88293</td>\n",
              "    </tr>\n",
              "    <tr>\n",
              "      <th>0</th>\n",
              "      <td>2021-03-31 04:30:00</td>\n",
              "      <td>4.68676</td>\n",
              "      <td>10.0875</td>\n",
              "    </tr>\n",
              "    <tr>\n",
              "      <th>0</th>\n",
              "      <td>2021-03-31 05:30:00</td>\n",
              "      <td>0</td>\n",
              "      <td>9.68394</td>\n",
              "    </tr>\n",
              "  </tbody>\n",
              "</table>\n",
              "<p>168 rows × 3 columns</p>\n",
              "</div>"
            ],
            "text/plain": [
              "              DateTime CallVolume ChatVolume\n",
              "0  2021-03-25 06:30:00    2.25507    10.2068\n",
              "0  2021-03-25 07:30:00    1.35901    6.72875\n",
              "0  2021-03-25 08:30:00     2.2894    8.94092\n",
              "0  2021-03-25 09:30:00    3.19959    13.0588\n",
              "0  2021-03-25 10:30:00    2.37141    15.8938\n",
              "..                 ...        ...        ...\n",
              "0  2021-03-31 01:30:00    14.3389    38.3617\n",
              "0  2021-03-31 02:30:00   0.892976     19.143\n",
              "0  2021-03-31 03:30:00    10.9384    9.88293\n",
              "0  2021-03-31 04:30:00    4.68676    10.0875\n",
              "0  2021-03-31 05:30:00          0    9.68394\n",
              "\n",
              "[168 rows x 3 columns]"
            ]
          },
          "metadata": {
            "tags": []
          },
          "execution_count": 76
        }
      ]
    },
    {
      "cell_type": "code",
      "metadata": {
        "id": "SLXqQcI6iE-7",
        "colab": {
          "base_uri": "https://localhost:8080/",
          "height": 417
        },
        "outputId": "ac9a2a56-54d1-4805-979e-5ffd49fa79d1"
      },
      "source": [
        "finalVolume = pd.DataFrame(columns=['DateTime', 'CallVolume', 'ChatVolume'])\n",
        "num_rows = predVolume['ChatVolume'].size\n",
        "for itr in range(num_rows):\n",
        "  finalVolume = finalVolume.append([{\n",
        "      'DateTime': predVolume.iloc[itr, 0],\n",
        "      'CallVolume': round(predVolume.iloc[itr, 1]),\n",
        "      'ChatVolume': round(predVolume.iloc[itr, 2])\n",
        "  }])\n",
        "finalVolume.reset_index(drop=True, inplace=True)\n",
        "finalVolume"
      ],
      "execution_count": 79,
      "outputs": [
        {
          "output_type": "execute_result",
          "data": {
            "text/html": [
              "<div>\n",
              "<style scoped>\n",
              "    .dataframe tbody tr th:only-of-type {\n",
              "        vertical-align: middle;\n",
              "    }\n",
              "\n",
              "    .dataframe tbody tr th {\n",
              "        vertical-align: top;\n",
              "    }\n",
              "\n",
              "    .dataframe thead th {\n",
              "        text-align: right;\n",
              "    }\n",
              "</style>\n",
              "<table border=\"1\" class=\"dataframe\">\n",
              "  <thead>\n",
              "    <tr style=\"text-align: right;\">\n",
              "      <th></th>\n",
              "      <th>DateTime</th>\n",
              "      <th>CallVolume</th>\n",
              "      <th>ChatVolume</th>\n",
              "    </tr>\n",
              "  </thead>\n",
              "  <tbody>\n",
              "    <tr>\n",
              "      <th>0</th>\n",
              "      <td>2021-03-25 06:30:00</td>\n",
              "      <td>2</td>\n",
              "      <td>10</td>\n",
              "    </tr>\n",
              "    <tr>\n",
              "      <th>1</th>\n",
              "      <td>2021-03-25 07:30:00</td>\n",
              "      <td>1</td>\n",
              "      <td>7</td>\n",
              "    </tr>\n",
              "    <tr>\n",
              "      <th>2</th>\n",
              "      <td>2021-03-25 08:30:00</td>\n",
              "      <td>2</td>\n",
              "      <td>9</td>\n",
              "    </tr>\n",
              "    <tr>\n",
              "      <th>3</th>\n",
              "      <td>2021-03-25 09:30:00</td>\n",
              "      <td>3</td>\n",
              "      <td>13</td>\n",
              "    </tr>\n",
              "    <tr>\n",
              "      <th>4</th>\n",
              "      <td>2021-03-25 10:30:00</td>\n",
              "      <td>2</td>\n",
              "      <td>16</td>\n",
              "    </tr>\n",
              "    <tr>\n",
              "      <th>...</th>\n",
              "      <td>...</td>\n",
              "      <td>...</td>\n",
              "      <td>...</td>\n",
              "    </tr>\n",
              "    <tr>\n",
              "      <th>163</th>\n",
              "      <td>2021-03-31 01:30:00</td>\n",
              "      <td>14</td>\n",
              "      <td>38</td>\n",
              "    </tr>\n",
              "    <tr>\n",
              "      <th>164</th>\n",
              "      <td>2021-03-31 02:30:00</td>\n",
              "      <td>1</td>\n",
              "      <td>19</td>\n",
              "    </tr>\n",
              "    <tr>\n",
              "      <th>165</th>\n",
              "      <td>2021-03-31 03:30:00</td>\n",
              "      <td>11</td>\n",
              "      <td>10</td>\n",
              "    </tr>\n",
              "    <tr>\n",
              "      <th>166</th>\n",
              "      <td>2021-03-31 04:30:00</td>\n",
              "      <td>5</td>\n",
              "      <td>10</td>\n",
              "    </tr>\n",
              "    <tr>\n",
              "      <th>167</th>\n",
              "      <td>2021-03-31 05:30:00</td>\n",
              "      <td>0</td>\n",
              "      <td>10</td>\n",
              "    </tr>\n",
              "  </tbody>\n",
              "</table>\n",
              "<p>168 rows × 3 columns</p>\n",
              "</div>"
            ],
            "text/plain": [
              "               DateTime CallVolume ChatVolume\n",
              "0   2021-03-25 06:30:00          2         10\n",
              "1   2021-03-25 07:30:00          1          7\n",
              "2   2021-03-25 08:30:00          2          9\n",
              "3   2021-03-25 09:30:00          3         13\n",
              "4   2021-03-25 10:30:00          2         16\n",
              "..                  ...        ...        ...\n",
              "163 2021-03-31 01:30:00         14         38\n",
              "164 2021-03-31 02:30:00          1         19\n",
              "165 2021-03-31 03:30:00         11         10\n",
              "166 2021-03-31 04:30:00          5         10\n",
              "167 2021-03-31 05:30:00          0         10\n",
              "\n",
              "[168 rows x 3 columns]"
            ]
          },
          "metadata": {
            "tags": []
          },
          "execution_count": 79
        }
      ]
    },
    {
      "cell_type": "markdown",
      "metadata": {
        "id": "2fp7zzAwvrOu"
      },
      "source": [
        "#Queueing Simulation"
      ]
    },
    {
      "cell_type": "code",
      "metadata": {
        "id": "p5-hlTxPvUWU"
      },
      "source": [
        "import random\n",
        "\n",
        "######################\n",
        "# Tune Parameters As #\n",
        "##### Required #######\n",
        "######################\n",
        "numOfSimulations = 100\n",
        "avgCallHandlingTime = 14\n",
        "avgChatHandlingTime = 23\n",
        "targetCallAnsweringTime = 1/3\n",
        "targetChatAnsweringTime = 1\n",
        "targetCallServiceLevel = 0.8\n",
        "targetChatServiceLevel = 0.8\n",
        "maxOccupancy = 0.85\n",
        "maxEmployees = 200\n",
        "shrinkage = 0.25"
      ],
      "execution_count": 80,
      "outputs": []
    },
    {
      "cell_type": "markdown",
      "metadata": {
        "id": "joultPwdwgSV"
      },
      "source": [
        "#Necessary Functions"
      ]
    },
    {
      "cell_type": "code",
      "metadata": {
        "id": "eCURVINgwZvn"
      },
      "source": [
        "def retExponential(vol):\n",
        "    return random.expovariate(vol/60)\n",
        "\n",
        "def allocateEmployee(employeeClocks, inTime):\n",
        "    employeeItr = 0\n",
        "    minClock = employeeClocks[0]\n",
        "    for i in range(len(employeeClocks)):\n",
        "        if employeeClocks[i] < minClock:\n",
        "            minClock = employeeClocks[i]\n",
        "            employeeItr = i\n",
        "    wait = max(minClock - inTime, 0)\n",
        "    return wait, employeeItr\n",
        "\n",
        "def generateTimePoints(volume):\n",
        "    l = []\n",
        "    if volume == 0:\n",
        "      return l\n",
        "    t = 0\n",
        "    while t <= 60:\n",
        "        t1 = retExponential(volume)\n",
        "        if t+t1 > 60:\n",
        "            break\n",
        "        t += t1\n",
        "        l.append(t)\n",
        "    return l"
      ],
      "execution_count": 87,
      "outputs": []
    },
    {
      "cell_type": "markdown",
      "metadata": {
        "id": "f9YT1fSkwliZ"
      },
      "source": [
        "#Simulation Function"
      ]
    },
    {
      "cell_type": "code",
      "metadata": {
        "id": "sME85bpfwqHW"
      },
      "source": [
        "def calculateEmployees(callVolume, chatVolume):\n",
        "    requiredEmployees = 0\n",
        "    for i in range(numOfSimulations):\n",
        "        callList = generateTimePoints(callVolume)\n",
        "        chatList = generateTimePoints(chatVolume)\n",
        "        callList.append(120)\n",
        "        chatList.append(120)\n",
        "        \n",
        "        employees = 1\n",
        "        while employees < maxEmployees:\n",
        "            callWaitTimeList = []\n",
        "            chatWaitTimeList = []\n",
        "            handlingTimeList = []\n",
        "            employeeClocks = [0]*employees\n",
        "            \n",
        "            i, j = 0, 0\n",
        "            while i < len(callList) - 1 or j < len(chatList) - 1:\n",
        "                if callList[i] < chatList[j]:\n",
        "                    wait, itr = allocateEmployee(employeeClocks, callList[i])\n",
        "                    callWaitTimeList.append(wait)\n",
        "                    handlingTime = retExponential(60.0/avgCallHandlingTime)\n",
        "                    handlingTimeList.append(handlingTime)\n",
        "                    employeeClocks[itr] = callList[i] + wait + handlingTime\n",
        "                    i += 1\n",
        "                else:\n",
        "                    wait, itr = allocateEmployee(employeeClocks, chatList[j])\n",
        "                    chatWaitTimeList.append(wait)\n",
        "                    handlingTime = retExponential(60.0/avgChatHandlingTime)\n",
        "                    handlingTimeList.append(handlingTime)\n",
        "                    employeeClocks[itr] = chatList[j] + wait + handlingTime\n",
        "                    j += 1\n",
        "            \n",
        "            totalWorkingTime = 0\n",
        "            for clockTime in employeeClocks:\n",
        "                totalWorkingTime += clockTime\n",
        "            NetWorkingTime = totalWorkingTime/employees\n",
        "            if NetWorkingTime > 60:\n",
        "                employees += 1\n",
        "                continue\n",
        "            \n",
        "            checkCallServiceLevel = 0\n",
        "            if len(callWaitTimeList):\n",
        "                for waitTime in callWaitTimeList:\n",
        "                    if waitTime <= targetCallAnsweringTime:\n",
        "                        checkCallServiceLevel += 1\n",
        "                checkCallServiceLevel /= len(callWaitTimeList)\n",
        "            else:\n",
        "                checkCallServiceLevel = 1\n",
        "            \n",
        "            checkChatServiceLevel = 0\n",
        "            if len(chatWaitTimeList):\n",
        "                for waitTime in chatWaitTimeList:\n",
        "                    if waitTime <= targetChatAnsweringTime:\n",
        "                        checkChatServiceLevel += 1\n",
        "                checkChatServiceLevel /= len(chatWaitTimeList)\n",
        "            else:\n",
        "                checkChatServiceLevel = 1\n",
        "            \n",
        "            totalHandlingTime = 0\n",
        "            for handlingTime in handlingTimeList:\n",
        "                totalHandlingTime += handlingTime\n",
        "            avgOccupancy = totalHandlingTime/employees\n",
        "            if avgOccupancy > maxOccupancy*60:\n",
        "                employees += 1\n",
        "                continue\n",
        "            \n",
        "            if checkCallServiceLevel >= targetCallServiceLevel and checkChatServiceLevel >= targetChatServiceLevel:\n",
        "                break\n",
        "            employees += 1\n",
        "        requiredEmployees += employees\n",
        "    \n",
        "    requiredEmployees /= numOfSimulations\n",
        "    \n",
        "    requiredEmployees /= (1-shrinkage)\n",
        "    return requiredEmployees"
      ],
      "execution_count": 88,
      "outputs": []
    },
    {
      "cell_type": "markdown",
      "metadata": {
        "id": "2XRiEL4nztas"
      },
      "source": [
        "#Hourly Prediction"
      ]
    },
    {
      "cell_type": "code",
      "metadata": {
        "id": "xzoOs28Tw0r4"
      },
      "source": [
        "predEmployees = pd.DataFrame(columns=['DateTime', 'Call Volume', 'Chat Volume', 'Employees'])\n",
        "num_rows = finalVolume['CallVolume'].size\n",
        "for i in range(num_rows):\n",
        "    predEmployees = predEmployees.append([{\n",
        "        'DateTime': finalVolume.iloc[i, 0],\n",
        "        'Call Volume': finalVolume.iloc[i, 1],\n",
        "        'Chat Volume': finalVolume.iloc[i, 2],\n",
        "        'Employees': np.ceil(calculateEmployees(finalVolume.iloc[i, 1], finalVolume.iloc[i, 2]))\n",
        "    }])"
      ],
      "execution_count": 95,
      "outputs": []
    },
    {
      "cell_type": "code",
      "metadata": {
        "colab": {
          "base_uri": "https://localhost:8080/",
          "height": 434
        },
        "id": "41t9ekz2xmsX",
        "outputId": "93d2e7bb-38cd-4543-f9da-b4512c98d3d1"
      },
      "source": [
        "print('Hourly Requirement of Employees for the Last Week of March : ')\n",
        "predEmployees"
      ],
      "execution_count": 109,
      "outputs": [
        {
          "output_type": "stream",
          "text": [
            "Hourly Requirement of Employees for the Last Week of March : \n"
          ],
          "name": "stdout"
        },
        {
          "output_type": "execute_result",
          "data": {
            "text/html": [
              "<div>\n",
              "<style scoped>\n",
              "    .dataframe tbody tr th:only-of-type {\n",
              "        vertical-align: middle;\n",
              "    }\n",
              "\n",
              "    .dataframe tbody tr th {\n",
              "        vertical-align: top;\n",
              "    }\n",
              "\n",
              "    .dataframe thead th {\n",
              "        text-align: right;\n",
              "    }\n",
              "</style>\n",
              "<table border=\"1\" class=\"dataframe\">\n",
              "  <thead>\n",
              "    <tr style=\"text-align: right;\">\n",
              "      <th></th>\n",
              "      <th>DateTime</th>\n",
              "      <th>Call Volume</th>\n",
              "      <th>Chat Volume</th>\n",
              "      <th>Employees</th>\n",
              "    </tr>\n",
              "  </thead>\n",
              "  <tbody>\n",
              "    <tr>\n",
              "      <th>0</th>\n",
              "      <td>2021-03-25 06:30:00</td>\n",
              "      <td>2</td>\n",
              "      <td>10</td>\n",
              "      <td>11.0</td>\n",
              "    </tr>\n",
              "    <tr>\n",
              "      <th>0</th>\n",
              "      <td>2021-03-25 07:30:00</td>\n",
              "      <td>1</td>\n",
              "      <td>7</td>\n",
              "      <td>8.0</td>\n",
              "    </tr>\n",
              "    <tr>\n",
              "      <th>0</th>\n",
              "      <td>2021-03-25 08:30:00</td>\n",
              "      <td>2</td>\n",
              "      <td>9</td>\n",
              "      <td>12.0</td>\n",
              "    </tr>\n",
              "    <tr>\n",
              "      <th>0</th>\n",
              "      <td>2021-03-25 09:30:00</td>\n",
              "      <td>3</td>\n",
              "      <td>13</td>\n",
              "      <td>15.0</td>\n",
              "    </tr>\n",
              "    <tr>\n",
              "      <th>0</th>\n",
              "      <td>2021-03-25 10:30:00</td>\n",
              "      <td>2</td>\n",
              "      <td>16</td>\n",
              "      <td>18.0</td>\n",
              "    </tr>\n",
              "    <tr>\n",
              "      <th>...</th>\n",
              "      <td>...</td>\n",
              "      <td>...</td>\n",
              "      <td>...</td>\n",
              "      <td>...</td>\n",
              "    </tr>\n",
              "    <tr>\n",
              "      <th>0</th>\n",
              "      <td>2021-03-31 01:30:00</td>\n",
              "      <td>14</td>\n",
              "      <td>38</td>\n",
              "      <td>49.0</td>\n",
              "    </tr>\n",
              "    <tr>\n",
              "      <th>0</th>\n",
              "      <td>2021-03-31 02:30:00</td>\n",
              "      <td>1</td>\n",
              "      <td>19</td>\n",
              "      <td>20.0</td>\n",
              "    </tr>\n",
              "    <tr>\n",
              "      <th>0</th>\n",
              "      <td>2021-03-31 03:30:00</td>\n",
              "      <td>11</td>\n",
              "      <td>10</td>\n",
              "      <td>18.0</td>\n",
              "    </tr>\n",
              "    <tr>\n",
              "      <th>0</th>\n",
              "      <td>2021-03-31 04:30:00</td>\n",
              "      <td>5</td>\n",
              "      <td>10</td>\n",
              "      <td>14.0</td>\n",
              "    </tr>\n",
              "    <tr>\n",
              "      <th>0</th>\n",
              "      <td>2021-03-31 05:30:00</td>\n",
              "      <td>0</td>\n",
              "      <td>10</td>\n",
              "      <td>10.0</td>\n",
              "    </tr>\n",
              "  </tbody>\n",
              "</table>\n",
              "<p>168 rows × 4 columns</p>\n",
              "</div>"
            ],
            "text/plain": [
              "              DateTime Call Volume Chat Volume  Employees\n",
              "0  2021-03-25 06:30:00           2          10       11.0\n",
              "0  2021-03-25 07:30:00           1           7        8.0\n",
              "0  2021-03-25 08:30:00           2           9       12.0\n",
              "0  2021-03-25 09:30:00           3          13       15.0\n",
              "0  2021-03-25 10:30:00           2          16       18.0\n",
              "..                 ...         ...         ...        ...\n",
              "0  2021-03-31 01:30:00          14          38       49.0\n",
              "0  2021-03-31 02:30:00           1          19       20.0\n",
              "0  2021-03-31 03:30:00          11          10       18.0\n",
              "0  2021-03-31 04:30:00           5          10       14.0\n",
              "0  2021-03-31 05:30:00           0          10       10.0\n",
              "\n",
              "[168 rows x 4 columns]"
            ]
          },
          "metadata": {
            "tags": []
          },
          "execution_count": 109
        }
      ]
    },
    {
      "cell_type": "markdown",
      "metadata": {
        "id": "UdB9cVoJzqIt"
      },
      "source": [
        "#Daily Prediction"
      ]
    },
    {
      "cell_type": "code",
      "metadata": {
        "colab": {
          "base_uri": "https://localhost:8080/",
          "height": 713
        },
        "id": "WnlKkhH1zmB_",
        "outputId": "b6c4f5e0-91e1-44aa-be4b-1bc3a3b1af57"
      },
      "source": [
        "shiftRequirement = pd.DataFrame(columns = ['Date', 'Shift', 'Employees'])\n",
        "itr = 0\n",
        "numOfRows = predEmployees['Employees'].size\n",
        "while itr < numOfRows-1:\n",
        "    temp = predEmployees.iloc[itr:itr+9, :]\n",
        "    shiftRequirement = shiftRequirement.append([{\n",
        "        'Date': temp.iloc[0, 0].date(),\n",
        "        'Shift': 'Morning',\n",
        "        'Employees': temp['Employees'].max()\n",
        "    }])\n",
        "    itr += 9\n",
        "    \n",
        "    temp = predEmployees.iloc[itr:itr+8, :]\n",
        "    shiftRequirement = shiftRequirement.append([{\n",
        "        'Date': temp.iloc[0, 0].date(),\n",
        "        'Shift': 'Afternoon',\n",
        "        'Employees': temp['Employees'].max()\n",
        "    }])\n",
        "    itr += 8\n",
        "    \n",
        "    temp = predEmployees.iloc[itr:itr+7, :]\n",
        "    shiftRequirement = shiftRequirement.append([{\n",
        "        'Date': temp.iloc[0, 0].date(),\n",
        "        'Shift': 'Night',\n",
        "        'Employees': temp['Employees'].max()\n",
        "    }])\n",
        "    itr += 7\n",
        "\n",
        "print('Shiftwise Requirement for the Last Week of March : ')\n",
        "shiftRequirement"
      ],
      "execution_count": 108,
      "outputs": [
        {
          "output_type": "stream",
          "text": [
            "Shiftwise Requirement for the Last Week of March : \n"
          ],
          "name": "stdout"
        },
        {
          "output_type": "execute_result",
          "data": {
            "text/html": [
              "<div>\n",
              "<style scoped>\n",
              "    .dataframe tbody tr th:only-of-type {\n",
              "        vertical-align: middle;\n",
              "    }\n",
              "\n",
              "    .dataframe tbody tr th {\n",
              "        vertical-align: top;\n",
              "    }\n",
              "\n",
              "    .dataframe thead th {\n",
              "        text-align: right;\n",
              "    }\n",
              "</style>\n",
              "<table border=\"1\" class=\"dataframe\">\n",
              "  <thead>\n",
              "    <tr style=\"text-align: right;\">\n",
              "      <th></th>\n",
              "      <th>Date</th>\n",
              "      <th>Shift</th>\n",
              "      <th>Employees</th>\n",
              "    </tr>\n",
              "  </thead>\n",
              "  <tbody>\n",
              "    <tr>\n",
              "      <th>0</th>\n",
              "      <td>2021-03-25</td>\n",
              "      <td>Morning</td>\n",
              "      <td>28.0</td>\n",
              "    </tr>\n",
              "    <tr>\n",
              "      <th>0</th>\n",
              "      <td>2021-03-25</td>\n",
              "      <td>Afternoon</td>\n",
              "      <td>33.0</td>\n",
              "    </tr>\n",
              "    <tr>\n",
              "      <th>0</th>\n",
              "      <td>2021-03-25</td>\n",
              "      <td>Night</td>\n",
              "      <td>26.0</td>\n",
              "    </tr>\n",
              "    <tr>\n",
              "      <th>0</th>\n",
              "      <td>2021-03-26</td>\n",
              "      <td>Morning</td>\n",
              "      <td>25.0</td>\n",
              "    </tr>\n",
              "    <tr>\n",
              "      <th>0</th>\n",
              "      <td>2021-03-26</td>\n",
              "      <td>Afternoon</td>\n",
              "      <td>28.0</td>\n",
              "    </tr>\n",
              "    <tr>\n",
              "      <th>0</th>\n",
              "      <td>2021-03-26</td>\n",
              "      <td>Night</td>\n",
              "      <td>26.0</td>\n",
              "    </tr>\n",
              "    <tr>\n",
              "      <th>0</th>\n",
              "      <td>2021-03-27</td>\n",
              "      <td>Morning</td>\n",
              "      <td>17.0</td>\n",
              "    </tr>\n",
              "    <tr>\n",
              "      <th>0</th>\n",
              "      <td>2021-03-27</td>\n",
              "      <td>Afternoon</td>\n",
              "      <td>14.0</td>\n",
              "    </tr>\n",
              "    <tr>\n",
              "      <th>0</th>\n",
              "      <td>2021-03-27</td>\n",
              "      <td>Night</td>\n",
              "      <td>15.0</td>\n",
              "    </tr>\n",
              "    <tr>\n",
              "      <th>0</th>\n",
              "      <td>2021-03-28</td>\n",
              "      <td>Morning</td>\n",
              "      <td>21.0</td>\n",
              "    </tr>\n",
              "    <tr>\n",
              "      <th>0</th>\n",
              "      <td>2021-03-28</td>\n",
              "      <td>Afternoon</td>\n",
              "      <td>23.0</td>\n",
              "    </tr>\n",
              "    <tr>\n",
              "      <th>0</th>\n",
              "      <td>2021-03-28</td>\n",
              "      <td>Night</td>\n",
              "      <td>14.0</td>\n",
              "    </tr>\n",
              "    <tr>\n",
              "      <th>0</th>\n",
              "      <td>2021-03-29</td>\n",
              "      <td>Morning</td>\n",
              "      <td>43.0</td>\n",
              "    </tr>\n",
              "    <tr>\n",
              "      <th>0</th>\n",
              "      <td>2021-03-29</td>\n",
              "      <td>Afternoon</td>\n",
              "      <td>48.0</td>\n",
              "    </tr>\n",
              "    <tr>\n",
              "      <th>0</th>\n",
              "      <td>2021-03-29</td>\n",
              "      <td>Night</td>\n",
              "      <td>41.0</td>\n",
              "    </tr>\n",
              "    <tr>\n",
              "      <th>0</th>\n",
              "      <td>2021-03-30</td>\n",
              "      <td>Morning</td>\n",
              "      <td>38.0</td>\n",
              "    </tr>\n",
              "    <tr>\n",
              "      <th>0</th>\n",
              "      <td>2021-03-30</td>\n",
              "      <td>Afternoon</td>\n",
              "      <td>44.0</td>\n",
              "    </tr>\n",
              "    <tr>\n",
              "      <th>0</th>\n",
              "      <td>2021-03-30</td>\n",
              "      <td>Night</td>\n",
              "      <td>50.0</td>\n",
              "    </tr>\n",
              "    <tr>\n",
              "      <th>0</th>\n",
              "      <td>2021-03-31</td>\n",
              "      <td>Morning</td>\n",
              "      <td>43.0</td>\n",
              "    </tr>\n",
              "    <tr>\n",
              "      <th>0</th>\n",
              "      <td>2021-03-31</td>\n",
              "      <td>Afternoon</td>\n",
              "      <td>47.0</td>\n",
              "    </tr>\n",
              "    <tr>\n",
              "      <th>0</th>\n",
              "      <td>2021-03-31</td>\n",
              "      <td>Night</td>\n",
              "      <td>49.0</td>\n",
              "    </tr>\n",
              "  </tbody>\n",
              "</table>\n",
              "</div>"
            ],
            "text/plain": [
              "         Date      Shift  Employees\n",
              "0  2021-03-25    Morning       28.0\n",
              "0  2021-03-25  Afternoon       33.0\n",
              "0  2021-03-25      Night       26.0\n",
              "0  2021-03-26    Morning       25.0\n",
              "0  2021-03-26  Afternoon       28.0\n",
              "0  2021-03-26      Night       26.0\n",
              "0  2021-03-27    Morning       17.0\n",
              "0  2021-03-27  Afternoon       14.0\n",
              "0  2021-03-27      Night       15.0\n",
              "0  2021-03-28    Morning       21.0\n",
              "0  2021-03-28  Afternoon       23.0\n",
              "0  2021-03-28      Night       14.0\n",
              "0  2021-03-29    Morning       43.0\n",
              "0  2021-03-29  Afternoon       48.0\n",
              "0  2021-03-29      Night       41.0\n",
              "0  2021-03-30    Morning       38.0\n",
              "0  2021-03-30  Afternoon       44.0\n",
              "0  2021-03-30      Night       50.0\n",
              "0  2021-03-31    Morning       43.0\n",
              "0  2021-03-31  Afternoon       47.0\n",
              "0  2021-03-31      Night       49.0"
            ]
          },
          "metadata": {
            "tags": []
          },
          "execution_count": 108
        }
      ]
    },
    {
      "cell_type": "code",
      "metadata": {
        "colab": {
          "base_uri": "https://localhost:8080/",
          "height": 282
        },
        "id": "5S1nDMD10QzP",
        "outputId": "f9afa50b-e346-44fd-e89a-75c603f53de8"
      },
      "source": [
        "dailyRequirement = pd.DataFrame(columns = ['Date', 'Employees'])\n",
        "numOfRows = shiftRequirement['Employees'].size\n",
        "itr = 0\n",
        "while itr < numOfRows:\n",
        "    dailyRequirement = dailyRequirement.append([{\n",
        "        'Date': shiftRequirement.iloc[itr, 0],\n",
        "        'Employees': shiftRequirement.iloc[itr, 2] + shiftRequirement.iloc[itr+1, 2] + shiftRequirement.iloc[itr+2, 2]\n",
        "    }])\n",
        "    itr += 3\n",
        "print('The Daily Requirement for the Last Week of March : ')\n",
        "dailyRequirement"
      ],
      "execution_count": 107,
      "outputs": [
        {
          "output_type": "stream",
          "text": [
            "The Daily Requirement for the Last Week of March : \n"
          ],
          "name": "stdout"
        },
        {
          "output_type": "execute_result",
          "data": {
            "text/html": [
              "<div>\n",
              "<style scoped>\n",
              "    .dataframe tbody tr th:only-of-type {\n",
              "        vertical-align: middle;\n",
              "    }\n",
              "\n",
              "    .dataframe tbody tr th {\n",
              "        vertical-align: top;\n",
              "    }\n",
              "\n",
              "    .dataframe thead th {\n",
              "        text-align: right;\n",
              "    }\n",
              "</style>\n",
              "<table border=\"1\" class=\"dataframe\">\n",
              "  <thead>\n",
              "    <tr style=\"text-align: right;\">\n",
              "      <th></th>\n",
              "      <th>Date</th>\n",
              "      <th>Employees</th>\n",
              "    </tr>\n",
              "  </thead>\n",
              "  <tbody>\n",
              "    <tr>\n",
              "      <th>0</th>\n",
              "      <td>2021-03-25</td>\n",
              "      <td>87.0</td>\n",
              "    </tr>\n",
              "    <tr>\n",
              "      <th>0</th>\n",
              "      <td>2021-03-26</td>\n",
              "      <td>79.0</td>\n",
              "    </tr>\n",
              "    <tr>\n",
              "      <th>0</th>\n",
              "      <td>2021-03-27</td>\n",
              "      <td>46.0</td>\n",
              "    </tr>\n",
              "    <tr>\n",
              "      <th>0</th>\n",
              "      <td>2021-03-28</td>\n",
              "      <td>58.0</td>\n",
              "    </tr>\n",
              "    <tr>\n",
              "      <th>0</th>\n",
              "      <td>2021-03-29</td>\n",
              "      <td>132.0</td>\n",
              "    </tr>\n",
              "    <tr>\n",
              "      <th>0</th>\n",
              "      <td>2021-03-30</td>\n",
              "      <td>132.0</td>\n",
              "    </tr>\n",
              "    <tr>\n",
              "      <th>0</th>\n",
              "      <td>2021-03-31</td>\n",
              "      <td>139.0</td>\n",
              "    </tr>\n",
              "  </tbody>\n",
              "</table>\n",
              "</div>"
            ],
            "text/plain": [
              "         Date  Employees\n",
              "0  2021-03-25       87.0\n",
              "0  2021-03-26       79.0\n",
              "0  2021-03-27       46.0\n",
              "0  2021-03-28       58.0\n",
              "0  2021-03-29      132.0\n",
              "0  2021-03-30      132.0\n",
              "0  2021-03-31      139.0"
            ]
          },
          "metadata": {
            "tags": []
          },
          "execution_count": 107
        }
      ]
    },
    {
      "cell_type": "markdown",
      "metadata": {
        "id": "gZ6QE9Jz1Qbg"
      },
      "source": [
        "#Weekly/Monthly Requirement"
      ]
    },
    {
      "cell_type": "code",
      "metadata": {
        "colab": {
          "base_uri": "https://localhost:8080/"
        },
        "id": "wSSBERQo1L6b",
        "outputId": "aec46c57-59c1-47ec-d9c7-17bd2455e3fd"
      },
      "source": [
        "import statistics\n",
        "\n",
        "itr_list = [0, 1, 2, 3, 4, 5, 6]\n",
        "weeklyData = []\n",
        "numOfRows = dailyRequirement['Employees'].size\n",
        "for itr in itr_list:\n",
        "    temp = []\n",
        "    while itr < numOfRows:\n",
        "        temp.append(dailyRequirement.iloc[itr, 1])\n",
        "        itr += 7\n",
        "    weeklyData.append(statistics.median(temp))\n",
        "monthlyRequirement = 0\n",
        "for data in weeklyData:\n",
        "    monthlyRequirement += data\n",
        "monthlyRequirement /= 5\n",
        "print('Number of employees reuired on Monthly/Weekly Basis : ', np.ceil(monthlyRequirement))"
      ],
      "execution_count": 106,
      "outputs": [
        {
          "output_type": "stream",
          "text": [
            "Number of employees reuired on Monthly/Weekly Basis :  135.0\n"
          ],
          "name": "stdout"
        }
      ]
    },
    {
      "cell_type": "markdown",
      "metadata": {
        "id": "RuXajjv14Bd5"
      },
      "source": [
        "# Conclusion\n",
        "The model attempts to replicate a close to real life estimate of the WAITING TIME  as well as the  SERVER OCCUPANCY  both of which are very important factors for predicting the number of employees.\n",
        "\n",
        "We have implemented a predictive model which incorporates Time Series Forecasting and Simulation Techniques to predict the optimum number of Employees required at a remote IT Service Desk to achieve the desired service level.\n",
        "\n",
        "With new data available every passing month, the model can be retrained, and the hyperparameters can be recalibrated for more accurate results."
      ]
    }
  ]
}